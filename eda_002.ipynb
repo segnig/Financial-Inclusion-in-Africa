{
  "nbformat": 4,
  "nbformat_minor": 0,
  "metadata": {
    "colab": {
      "provenance": [],
      "authorship_tag": "ABX9TyNoQy6QYCMvadsMSn/Uu3+o",
      "include_colab_link": true
    },
    "kernelspec": {
      "name": "python3",
      "display_name": "Python 3"
    },
    "language_info": {
      "name": "python"
    }
  },
  "cells": [
    {
      "cell_type": "markdown",
      "metadata": {
        "id": "view-in-github",
        "colab_type": "text"
      },
      "source": [
        "<a href=\"https://colab.research.google.com/github/segnig/Financial-Inclusion-in-Africa/blob/main/eda_002.ipynb\" target=\"_parent\"><img src=\"https://colab.research.google.com/assets/colab-badge.svg\" alt=\"Open In Colab\"/></a>"
      ]
    },
    {
      "cell_type": "code",
      "execution_count": 1,
      "metadata": {
        "id": "DSLKx8jrTCrz"
      },
      "outputs": [],
      "source": [
        "FILE_PATH = \"/content/drive/MyDrive/Data Science/financial-inclusion-in-africa/\"\n",
        "\n",
        "TRAIN_PATH = \"Train.csv\"\n",
        "TEST_PATH = \"Test.csv\"\n",
        "\n",
        "VARIABLE_DEFINITIONS_PATH = \"VariableDefinitions.csv\"\n",
        "SAMPLE_SUBMISSION_PATH = \"SampleSubmission.csv\"\n"
      ]
    },
    {
      "cell_type": "code",
      "source": [],
      "metadata": {
        "id": "kBfuyJWJTD1s"
      },
      "execution_count": null,
      "outputs": []
    }
  ]
}