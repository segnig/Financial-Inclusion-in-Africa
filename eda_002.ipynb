{
  "nbformat": 4,
  "nbformat_minor": 0,
  "metadata": {
    "colab": {
      "provenance": [],
      "authorship_tag": "ABX9TyOBnoBfwHysQZhmEx4koz9A",
      "include_colab_link": true
    },
    "kernelspec": {
      "name": "python3",
      "display_name": "Python 3"
    },
    "language_info": {
      "name": "python"
    }
  },
  "cells": [
    {
      "cell_type": "markdown",
      "metadata": {
        "id": "view-in-github",
        "colab_type": "text"
      },
      "source": [
        "<a href=\"https://colab.research.google.com/github/segnig/Financial-Inclusion-in-Africa/blob/main/eda_002.ipynb\" target=\"_parent\"><img src=\"https://colab.research.google.com/assets/colab-badge.svg\" alt=\"Open In Colab\"/></a>"
      ]
    },
    {
      "cell_type": "code",
      "execution_count": 2,
      "metadata": {
        "id": "DSLKx8jrTCrz"
      },
      "outputs": [],
      "source": [
        "FILE_PATH = \"/content/drive/MyDrive/Data Science/financial-inclusion-in-africa/\"\n",
        "\n",
        "TRAIN_PATH = \"Train.csv\"\n",
        "TEST_PATH = \"Test.csv\"\n",
        "\n",
        "VARIABLE_DEFINITIONS_PATH = \"VariableDefinitions.csv\"\n",
        "SAMPLE_SUBMISSION_PATH = \"SampleSubmission.csv\"\n"
      ]
    },
    {
      "cell_type": "markdown",
      "source": [
        "## Libraries Import"
      ],
      "metadata": {
        "id": "gjcR7AHOTvTK"
      }
    },
    {
      "cell_type": "markdown",
      "source": [],
      "metadata": {
        "id": "iyEmPCOKTvMo"
      }
    },
    {
      "cell_type": "code",
      "source": [
        "import pandas as pd\n",
        "import numpy as np\n",
        "import matplotlib.pyplot as plt\n",
        "import seaborn as sns"
      ],
      "metadata": {
        "id": "Z0LPGxsFTf6K"
      },
      "execution_count": 3,
      "outputs": []
    },
    {
      "cell_type": "markdown",
      "source": [
        "# Load Dataset to DataFrame"
      ],
      "metadata": {
        "id": "zFAlq2VST9vk"
      }
    },
    {
      "cell_type": "code",
      "source": [
        "train = pd.read_csv(FILE_PATH + TRAIN_PATH)\n",
        "test = pd.read_csv(FILE_PATH + TEST_PATH)\n",
        "\n",
        "variable_definitions = pd.read_csv(FILE_PATH + VARIABLE_DEFINITIONS_PATH)\n",
        "sample_submission = pd.read_csv(FILE_PATH + SAMPLE_SUBMISSION_PATH)"
      ],
      "metadata": {
        "id": "kBfuyJWJTD1s"
      },
      "execution_count": 4,
      "outputs": []
    },
    {
      "cell_type": "markdown",
      "source": [
        "# Train DataSet"
      ],
      "metadata": {
        "id": "RL7u7crBUcU1"
      }
    },
    {
      "cell_type": "code",
      "source": [
        "# How many features and their data types\n",
        "train.info()"
      ],
      "metadata": {
        "colab": {
          "base_uri": "https://localhost:8080/"
        },
        "id": "L4lWn_J_UKFX",
        "outputId": "915c50a9-a57c-428d-d0e8-49d9cc0065d8"
      },
      "execution_count": 5,
      "outputs": [
        {
          "output_type": "stream",
          "name": "stdout",
          "text": [
            "<class 'pandas.core.frame.DataFrame'>\n",
            "RangeIndex: 23524 entries, 0 to 23523\n",
            "Data columns (total 13 columns):\n",
            " #   Column                  Non-Null Count  Dtype \n",
            "---  ------                  --------------  ----- \n",
            " 0   country                 23524 non-null  object\n",
            " 1   year                    23524 non-null  int64 \n",
            " 2   uniqueid                23524 non-null  object\n",
            " 3   bank_account            23524 non-null  object\n",
            " 4   location_type           23524 non-null  object\n",
            " 5   cellphone_access        23524 non-null  object\n",
            " 6   household_size          23524 non-null  int64 \n",
            " 7   age_of_respondent       23524 non-null  int64 \n",
            " 8   gender_of_respondent    23524 non-null  object\n",
            " 9   relationship_with_head  23524 non-null  object\n",
            " 10  marital_status          23524 non-null  object\n",
            " 11  education_level         23524 non-null  object\n",
            " 12  job_type                23524 non-null  object\n",
            "dtypes: int64(3), object(10)\n",
            "memory usage: 2.3+ MB\n"
          ]
        }
      ]
    },
    {
      "cell_type": "markdown",
      "source": [
        "# Data wrangling Function"
      ],
      "metadata": {
        "id": "xNVATfwZawBk"
      }
    },
    {
      "cell_type": "code",
      "source": [
        "def wrangle(file_path):\n",
        "\n",
        "    # data loading\n",
        "    df_copy = pd.read_csv(file_path)\n",
        "\n",
        "\n",
        "    # Inflaction rate in 2019\n",
        "    inflaction_rate = {\"Kenya\": 0.0524, \"Tanzania\": 0.0346, \"Rwanda\": 0.0335, \"Uganda\": 0.0286}\n",
        "\n",
        "    # add new feature `inflation_rate_2019`\n",
        "    df_copy[\"inflation_rate_2019\"] = df_copy[\"country\"].map(inflaction_rate)\n",
        "\n",
        "\n",
        "    # Education level\n",
        "    high_level_edu = set([\"Tertiary education\", \"Secondary education\", \"Vocational/Specialised training\"])\n",
        "\n",
        "    # mobile_banking = education_level + cellphone_level + location_type\n",
        "    df_copy[\"mobile_banking\"] = (\n",
        "        df_copy[\"education_level\"].isin(high_level_edu)\n",
        "        & (df_copy[\"cellphone_access\"] == \"Yes\")\n",
        "        & (df_copy[\"location_type\"] == \"Urban\")\n",
        "    )\n",
        "\n",
        "    # job type\n",
        "    other_job_type = set(['Dont Know/Refuse to answer', 'Farming and Fishing', 'Informally employed', 'No Income', 'Remittance Dependent', 'Self employed', \"Other Income\"])\n",
        "\n",
        "    # if job type in other_job_type it other else as it is\n",
        "    df_copy[\"job_type\"] = df_copy[\"job_type\"].apply(lambda x: \"Other\" if x in other_job_type else x)\n",
        "\n",
        "    # marital status\n",
        "    df_copy[\"marital_status\"] = df_copy[\"marital_status\"].apply(lambda x: x if x == \"Married/Living together\" else \"Other\")\n",
        "\n",
        "\n",
        "    # dropped features\n",
        "    dropped_feature = [\"year\", \"relationship_with_head\"]\n",
        "\n",
        "    return df_copy\n",
        ""
      ],
      "metadata": {
        "id": "bmyW14UPavtV"
      },
      "execution_count": 129,
      "outputs": []
    },
    {
      "cell_type": "code",
      "source": [
        "train = wrangle(FILE_PATH + TRAIN_PATH)"
      ],
      "metadata": {
        "id": "4eiWe_w-nhRy"
      },
      "execution_count": 130,
      "outputs": []
    },
    {
      "cell_type": "markdown",
      "source": [
        "## Banking the Unbanked: How Country Shapes Financial Access in Africa?"
      ],
      "metadata": {
        "id": "_P3x_zVCV_E6"
      }
    },
    {
      "cell_type": "code",
      "source": [],
      "metadata": {
        "id": "e460ty_OngWm"
      },
      "execution_count": null,
      "outputs": []
    },
    {
      "cell_type": "code",
      "source": [
        "# How much data is form each country?\n",
        "train['country'].value_counts(normalize=True).round(2)"
      ],
      "metadata": {
        "colab": {
          "base_uri": "https://localhost:8080/",
          "height": 241
        },
        "id": "UQx0KOibUrCm",
        "outputId": "6fcfa0d9-a72a-41ed-87ca-f5a43a57ab96"
      },
      "execution_count": 73,
      "outputs": [
        {
          "output_type": "execute_result",
          "data": {
            "text/plain": [
              "country\n",
              "Rwanda      0.37\n",
              "Tanzania    0.28\n",
              "Kenya       0.26\n",
              "Uganda      0.09\n",
              "Name: proportion, dtype: float64"
            ],
            "text/html": [
              "<div>\n",
              "<style scoped>\n",
              "    .dataframe tbody tr th:only-of-type {\n",
              "        vertical-align: middle;\n",
              "    }\n",
              "\n",
              "    .dataframe tbody tr th {\n",
              "        vertical-align: top;\n",
              "    }\n",
              "\n",
              "    .dataframe thead th {\n",
              "        text-align: right;\n",
              "    }\n",
              "</style>\n",
              "<table border=\"1\" class=\"dataframe\">\n",
              "  <thead>\n",
              "    <tr style=\"text-align: right;\">\n",
              "      <th></th>\n",
              "      <th>proportion</th>\n",
              "    </tr>\n",
              "    <tr>\n",
              "      <th>country</th>\n",
              "      <th></th>\n",
              "    </tr>\n",
              "  </thead>\n",
              "  <tbody>\n",
              "    <tr>\n",
              "      <th>Rwanda</th>\n",
              "      <td>0.37</td>\n",
              "    </tr>\n",
              "    <tr>\n",
              "      <th>Tanzania</th>\n",
              "      <td>0.28</td>\n",
              "    </tr>\n",
              "    <tr>\n",
              "      <th>Kenya</th>\n",
              "      <td>0.26</td>\n",
              "    </tr>\n",
              "    <tr>\n",
              "      <th>Uganda</th>\n",
              "      <td>0.09</td>\n",
              "    </tr>\n",
              "  </tbody>\n",
              "</table>\n",
              "</div><br><label><b>dtype:</b> float64</label>"
            ]
          },
          "metadata": {},
          "execution_count": 73
        }
      ]
    },
    {
      "cell_type": "markdown",
      "source": [
        "The dataset predominantly represents four East African countries, with the largest proportion of data `37%` originating from `Rwanda`. `Tanzania` contributes `28%` of the data, followed closely by `Kenya` with `26%`. `Uganda` accounts for the remaining `9%`. This distribution highlights a strong focus on Rwanda while ensuring significant representation from other key East African nations, providing a comprehensive regional perspective on financial inclusion trend"
      ],
      "metadata": {
        "id": "VFqne1vGY9jX"
      }
    },
    {
      "cell_type": "markdown",
      "source": [],
      "metadata": {
        "id": "jKmJOn4FbQNO"
      }
    },
    {
      "cell_type": "markdown",
      "source": [],
      "metadata": {
        "id": "7AZJOrvCbQJF"
      }
    },
    {
      "cell_type": "code",
      "source": [
        "train[train[\"bank_account\"] == \"Yes\"][\"country\"].value_counts(normalize=True)"
      ],
      "metadata": {
        "colab": {
          "base_uri": "https://localhost:8080/",
          "height": 241
        },
        "id": "XzsOcWhfYbzl",
        "outputId": "449d6bf7-9b94-4092-b0b2-ba1411fb3b72"
      },
      "execution_count": 10,
      "outputs": [
        {
          "output_type": "execute_result",
          "data": {
            "text/plain": [
              "country\n",
              "Kenya       0.459239\n",
              "Rwanda      0.302838\n",
              "Tanzania    0.183273\n",
              "Uganda      0.054650\n",
              "Name: proportion, dtype: float64"
            ],
            "text/html": [
              "<div>\n",
              "<style scoped>\n",
              "    .dataframe tbody tr th:only-of-type {\n",
              "        vertical-align: middle;\n",
              "    }\n",
              "\n",
              "    .dataframe tbody tr th {\n",
              "        vertical-align: top;\n",
              "    }\n",
              "\n",
              "    .dataframe thead th {\n",
              "        text-align: right;\n",
              "    }\n",
              "</style>\n",
              "<table border=\"1\" class=\"dataframe\">\n",
              "  <thead>\n",
              "    <tr style=\"text-align: right;\">\n",
              "      <th></th>\n",
              "      <th>proportion</th>\n",
              "    </tr>\n",
              "    <tr>\n",
              "      <th>country</th>\n",
              "      <th></th>\n",
              "    </tr>\n",
              "  </thead>\n",
              "  <tbody>\n",
              "    <tr>\n",
              "      <th>Kenya</th>\n",
              "      <td>0.459239</td>\n",
              "    </tr>\n",
              "    <tr>\n",
              "      <th>Rwanda</th>\n",
              "      <td>0.302838</td>\n",
              "    </tr>\n",
              "    <tr>\n",
              "      <th>Tanzania</th>\n",
              "      <td>0.183273</td>\n",
              "    </tr>\n",
              "    <tr>\n",
              "      <th>Uganda</th>\n",
              "      <td>0.054650</td>\n",
              "    </tr>\n",
              "  </tbody>\n",
              "</table>\n",
              "</div><br><label><b>dtype:</b> float64</label>"
            ]
          },
          "metadata": {},
          "execution_count": 10
        }
      ]
    },
    {
      "cell_type": "code",
      "source": [
        "train[train[\"bank_account\"] == \"No\"][\"country\"].value_counts(normalize=True)"
      ],
      "metadata": {
        "colab": {
          "base_uri": "https://localhost:8080/",
          "height": 241
        },
        "id": "GBoRpCz_aptg",
        "outputId": "fd839c6b-b6e9-4d8b-ca6b-54a4104c487a"
      },
      "execution_count": 12,
      "outputs": [
        {
          "output_type": "execute_result",
          "data": {
            "text/plain": [
              "country\n",
              "Rwanda      0.382545\n",
              "Tanzania    0.297497\n",
              "Kenya       0.224965\n",
              "Uganda      0.094993\n",
              "Name: proportion, dtype: float64"
            ],
            "text/html": [
              "<div>\n",
              "<style scoped>\n",
              "    .dataframe tbody tr th:only-of-type {\n",
              "        vertical-align: middle;\n",
              "    }\n",
              "\n",
              "    .dataframe tbody tr th {\n",
              "        vertical-align: top;\n",
              "    }\n",
              "\n",
              "    .dataframe thead th {\n",
              "        text-align: right;\n",
              "    }\n",
              "</style>\n",
              "<table border=\"1\" class=\"dataframe\">\n",
              "  <thead>\n",
              "    <tr style=\"text-align: right;\">\n",
              "      <th></th>\n",
              "      <th>proportion</th>\n",
              "    </tr>\n",
              "    <tr>\n",
              "      <th>country</th>\n",
              "      <th></th>\n",
              "    </tr>\n",
              "  </thead>\n",
              "  <tbody>\n",
              "    <tr>\n",
              "      <th>Rwanda</th>\n",
              "      <td>0.382545</td>\n",
              "    </tr>\n",
              "    <tr>\n",
              "      <th>Tanzania</th>\n",
              "      <td>0.297497</td>\n",
              "    </tr>\n",
              "    <tr>\n",
              "      <th>Kenya</th>\n",
              "      <td>0.224965</td>\n",
              "    </tr>\n",
              "    <tr>\n",
              "      <th>Uganda</th>\n",
              "      <td>0.094993</td>\n",
              "    </tr>\n",
              "  </tbody>\n",
              "</table>\n",
              "</div><br><label><b>dtype:</b> float64</label>"
            ]
          },
          "metadata": {},
          "execution_count": 12
        }
      ]
    },
    {
      "cell_type": "code",
      "source": [
        "# The probability across the countries have bank_account\n",
        "prob_country_bank_account = train.groupby(\"country\")[\"bank_account\"].value_counts(normalize=True).round(2)\n",
        "\n",
        "prob_country_bank_account = prob_country_bank_account.reset_index(name=\"prob\").set_index(\"country\")\n",
        "\n",
        "prob_country_bank_account[prob_country_bank_account[\"bank_account\"] == \"Yes\"].plot(kind=\"bar\", title=\"Probability of Bank Account by Country\", figsize=(10, 4));"
      ],
      "metadata": {
        "colab": {
          "base_uri": "https://localhost:8080/",
          "height": 457
        },
        "id": "kEDmZNt3adIa",
        "outputId": "b7608975-2914-48f3-896c-437516f97bc1"
      },
      "execution_count": 24,
      "outputs": [
        {
          "output_type": "display_data",
          "data": {
            "text/plain": [
              "<Figure size 1000x400 with 1 Axes>"
            ],
            "image/png": "[encoded data removed]"
          },
          "metadata": {}
        }
      ]
    },
    {
      "cell_type": "code",
      "source": [
        "train.groupby(\"country\")[\"inflation_rate_2019\"].mean().sort_values(ascending=False).plot(kind=\"bar\", figsize=(10, 4))\n",
        "plt.title(\"Average Inflation Rate in 2019 by Country\");\n",
        "plt.ylabel(\"Inflation Rate\");\n",
        "plt.xlabel(\"Country\");"
      ],
      "metadata": {
        "id": "efIBAeKDnm-f",
        "outputId": "d25dbb94-81a2-4945-e806-e8df4d88f603",
        "colab": {
          "base_uri": "https://localhost:8080/",
          "height": 457
        }
      },
      "execution_count": 37,
      "outputs": [
        {
          "output_type": "display_data",
          "data": {
            "text/plain": [
              "<Figure size 1000x400 with 1 Axes>"
            ],
            "image/png": "[encoded data removed]"
          },
          "metadata": {}
        }
      ]
    },
    {
      "cell_type": "code",
      "source": [
        "train[\"year\"].unique()"
      ],
      "metadata": {
        "colab": {
          "base_uri": "https://localhost:8080/"
        },
        "id": "9pUOJlTVb6Rr",
        "outputId": "60300168-3e93-4338-8004-8e66dd3931a0"
      },
      "execution_count": 25,
      "outputs": [
        {
          "output_type": "execute_result",
          "data": {
            "text/plain": [
              "array([2018, 2016, 2017])"
            ]
          },
          "metadata": {},
          "execution_count": 25
        }
      ]
    },
    {
      "cell_type": "markdown",
      "source": [
        "# Unlocking Financial Inclusion: Exploring the Impact of Year and Country on Bank Account Ownership"
      ],
      "metadata": {
        "id": "2T1LISkAe-Xx"
      }
    },
    {
      "cell_type": "code",
      "source": [
        "train.groupby(\"year\")[[\"bank_account\", \"country\"]].value_counts(normalize=True).round(2)\n"
      ],
      "metadata": {
        "colab": {
          "base_uri": "https://localhost:8080/",
          "height": 366
        },
        "id": "QHWyW2j1diUI",
        "outputId": "3a63fd36-99b3-4003-e7bb-40ea4963ab82"
      },
      "execution_count": 27,
      "outputs": [
        {
          "output_type": "execute_result",
          "data": {
            "text/plain": [
              "year  bank_account  country \n",
              "2016  No            Rwanda      0.89\n",
              "      Yes           Rwanda      0.11\n",
              "2017  No            Tanzania    0.91\n",
              "      Yes           Tanzania    0.09\n",
              "2018  No            Kenya       0.56\n",
              "                    Uganda      0.24\n",
              "      Yes           Kenya       0.19\n",
              "                    Uganda      0.02\n",
              "Name: proportion, dtype: float64"
            ],
            "text/html": [
              "<div>\n",
              "<style scoped>\n",
              "    .dataframe tbody tr th:only-of-type {\n",
              "        vertical-align: middle;\n",
              "    }\n",
              "\n",
              "    .dataframe tbody tr th {\n",
              "        vertical-align: top;\n",
              "    }\n",
              "\n",
              "    .dataframe thead th {\n",
              "        text-align: right;\n",
              "    }\n",
              "</style>\n",
              "<table border=\"1\" class=\"dataframe\">\n",
              "  <thead>\n",
              "    <tr style=\"text-align: right;\">\n",
              "      <th></th>\n",
              "      <th></th>\n",
              "      <th></th>\n",
              "      <th>proportion</th>\n",
              "    </tr>\n",
              "    <tr>\n",
              "      <th>year</th>\n",
              "      <th>bank_account</th>\n",
              "      <th>country</th>\n",
              "      <th></th>\n",
              "    </tr>\n",
              "  </thead>\n",
              "  <tbody>\n",
              "    <tr>\n",
              "      <th rowspan=\"2\" valign=\"top\">2016</th>\n",
              "      <th>No</th>\n",
              "      <th>Rwanda</th>\n",
              "      <td>0.89</td>\n",
              "    </tr>\n",
              "    <tr>\n",
              "      <th>Yes</th>\n",
              "      <th>Rwanda</th>\n",
              "      <td>0.11</td>\n",
              "    </tr>\n",
              "    <tr>\n",
              "      <th rowspan=\"2\" valign=\"top\">2017</th>\n",
              "      <th>No</th>\n",
              "      <th>Tanzania</th>\n",
              "      <td>0.91</td>\n",
              "    </tr>\n",
              "    <tr>\n",
              "      <th>Yes</th>\n",
              "      <th>Tanzania</th>\n",
              "      <td>0.09</td>\n",
              "    </tr>\n",
              "    <tr>\n",
              "      <th rowspan=\"4\" valign=\"top\">2018</th>\n",
              "      <th rowspan=\"2\" valign=\"top\">No</th>\n",
              "      <th>Kenya</th>\n",
              "      <td>0.56</td>\n",
              "    </tr>\n",
              "    <tr>\n",
              "      <th>Uganda</th>\n",
              "      <td>0.24</td>\n",
              "    </tr>\n",
              "    <tr>\n",
              "      <th rowspan=\"2\" valign=\"top\">Yes</th>\n",
              "      <th>Kenya</th>\n",
              "      <td>0.19</td>\n",
              "    </tr>\n",
              "    <tr>\n",
              "      <th>Uganda</th>\n",
              "      <td>0.02</td>\n",
              "    </tr>\n",
              "  </tbody>\n",
              "</table>\n",
              "</div><br><label><b>dtype:</b> float64</label>"
            ]
          },
          "metadata": {},
          "execution_count": 27
        }
      ]
    },
    {
      "cell_type": "markdown",
      "source": [
        "## Tracking Financial Access: How Year and Country Shape Bank Account Ownership Trends\n",
        "\n",
        "| Year | Bank Account | Country  | Proportion |\n",
        "|------|--------------|----------|------------|\n",
        "| 2016 | No           | Rwanda   | 0.89       |\n",
        "| 2016 | Yes          | Rwanda   | 0.11       |\n",
        "| 2017 | No           | Tanzania | 0.91       |\n",
        "| 2017 | Yes          | Tanzania | 0.09       |\n",
        "| 2018 | No           | Kenya    | 0.56       |\n",
        "| 2018 | No           | Uganda   | 0.24       |\n",
        "| 2018 | Yes          | Kenya    | 0.19       |\n",
        "| 2018 | Yes          | Uganda   | 0.02       |\n",
        "\n",
        "Year feature does not have relation with out target vector."
      ],
      "metadata": {
        "id": "rVGniNVOg32X"
      }
    },
    {
      "cell_type": "markdown",
      "source": [
        "## Bridging the Gap: Exploring Mobile Access Across Urban and Rural Locations"
      ],
      "metadata": {
        "id": "rksn-LpJo4ld"
      }
    },
    {
      "cell_type": "code",
      "source": [
        "train[\"cellphone_access\"].value_counts(normalize=True)"
      ],
      "metadata": {
        "id": "qX99ifNPo4HL",
        "outputId": "ef0962c1-cd0a-4e38-d39c-82ba4008a55d",
        "colab": {
          "base_uri": "https://localhost:8080/",
          "height": 178
        }
      },
      "execution_count": 38,
      "outputs": [
        {
          "output_type": "execute_result",
          "data": {
            "text/plain": [
              "cellphone_access\n",
              "Yes    0.741966\n",
              "No     0.258034\n",
              "Name: proportion, dtype: float64"
            ],
            "text/html": [
              "<div>\n",
              "<style scoped>\n",
              "    .dataframe tbody tr th:only-of-type {\n",
              "        vertical-align: middle;\n",
              "    }\n",
              "\n",
              "    .dataframe tbody tr th {\n",
              "        vertical-align: top;\n",
              "    }\n",
              "\n",
              "    .dataframe thead th {\n",
              "        text-align: right;\n",
              "    }\n",
              "</style>\n",
              "<table border=\"1\" class=\"dataframe\">\n",
              "  <thead>\n",
              "    <tr style=\"text-align: right;\">\n",
              "      <th></th>\n",
              "      <th>proportion</th>\n",
              "    </tr>\n",
              "    <tr>\n",
              "      <th>cellphone_access</th>\n",
              "      <th></th>\n",
              "    </tr>\n",
              "  </thead>\n",
              "  <tbody>\n",
              "    <tr>\n",
              "      <th>Yes</th>\n",
              "      <td>0.741966</td>\n",
              "    </tr>\n",
              "    <tr>\n",
              "      <th>No</th>\n",
              "      <td>0.258034</td>\n",
              "    </tr>\n",
              "  </tbody>\n",
              "</table>\n",
              "</div><br><label><b>dtype:</b> float64</label>"
            ]
          },
          "metadata": {},
          "execution_count": 38
        }
      ]
    },
    {
      "cell_type": "code",
      "source": [
        "train[\"location_type\"].value_counts(normalize=True)"
      ],
      "metadata": {
        "colab": {
          "base_uri": "https://localhost:8080/",
          "height": 178
        },
        "id": "03I4kVhifJQz",
        "outputId": "f396e3f4-3fd0-448b-a5ef-d30aadeb038e"
      },
      "execution_count": 39,
      "outputs": [
        {
          "output_type": "execute_result",
          "data": {
            "text/plain": [
              "location_type\n",
              "Rural    0.609718\n",
              "Urban    0.390282\n",
              "Name: proportion, dtype: float64"
            ],
            "text/html": [
              "<div>\n",
              "<style scoped>\n",
              "    .dataframe tbody tr th:only-of-type {\n",
              "        vertical-align: middle;\n",
              "    }\n",
              "\n",
              "    .dataframe tbody tr th {\n",
              "        vertical-align: top;\n",
              "    }\n",
              "\n",
              "    .dataframe thead th {\n",
              "        text-align: right;\n",
              "    }\n",
              "</style>\n",
              "<table border=\"1\" class=\"dataframe\">\n",
              "  <thead>\n",
              "    <tr style=\"text-align: right;\">\n",
              "      <th></th>\n",
              "      <th>proportion</th>\n",
              "    </tr>\n",
              "    <tr>\n",
              "      <th>location_type</th>\n",
              "      <th></th>\n",
              "    </tr>\n",
              "  </thead>\n",
              "  <tbody>\n",
              "    <tr>\n",
              "      <th>Rural</th>\n",
              "      <td>0.609718</td>\n",
              "    </tr>\n",
              "    <tr>\n",
              "      <th>Urban</th>\n",
              "      <td>0.390282</td>\n",
              "    </tr>\n",
              "  </tbody>\n",
              "</table>\n",
              "</div><br><label><b>dtype:</b> float64</label>"
            ]
          },
          "metadata": {},
          "execution_count": 39
        }
      ]
    },
    {
      "cell_type": "code",
      "source": [
        "# let say Urban + cellphone_access = mobile bank\n",
        "(train[\"cellphone_access\"] == \"Yes\") & (train[\"location_type\"] == \"Urban\")"
      ],
      "metadata": {
        "id": "QI-23BB5pgdb",
        "outputId": "255bd189-e3cd-483e-bd38-618ce864a1df",
        "colab": {
          "base_uri": "https://localhost:8080/",
          "height": 458
        }
      },
      "execution_count": 76,
      "outputs": [
        {
          "output_type": "execute_result",
          "data": {
            "text/plain": [
              "0        False\n",
              "1        False\n",
              "2         True\n",
              "3        False\n",
              "4        False\n",
              "         ...  \n",
              "23519    False\n",
              "23520    False\n",
              "23521    False\n",
              "23522     True\n",
              "23523    False\n",
              "Length: 23524, dtype: bool"
            ],
            "text/html": [
              "<div>\n",
              "<style scoped>\n",
              "    .dataframe tbody tr th:only-of-type {\n",
              "        vertical-align: middle;\n",
              "    }\n",
              "\n",
              "    .dataframe tbody tr th {\n",
              "        vertical-align: top;\n",
              "    }\n",
              "\n",
              "    .dataframe thead th {\n",
              "        text-align: right;\n",
              "    }\n",
              "</style>\n",
              "<table border=\"1\" class=\"dataframe\">\n",
              "  <thead>\n",
              "    <tr style=\"text-align: right;\">\n",
              "      <th></th>\n",
              "      <th>0</th>\n",
              "    </tr>\n",
              "  </thead>\n",
              "  <tbody>\n",
              "    <tr>\n",
              "      <th>0</th>\n",
              "      <td>False</td>\n",
              "    </tr>\n",
              "    <tr>\n",
              "      <th>1</th>\n",
              "      <td>False</td>\n",
              "    </tr>\n",
              "    <tr>\n",
              "      <th>2</th>\n",
              "      <td>True</td>\n",
              "    </tr>\n",
              "    <tr>\n",
              "      <th>3</th>\n",
              "      <td>False</td>\n",
              "    </tr>\n",
              "    <tr>\n",
              "      <th>4</th>\n",
              "      <td>False</td>\n",
              "    </tr>\n",
              "    <tr>\n",
              "      <th>...</th>\n",
              "      <td>...</td>\n",
              "    </tr>\n",
              "    <tr>\n",
              "      <th>23519</th>\n",
              "      <td>False</td>\n",
              "    </tr>\n",
              "    <tr>\n",
              "      <th>23520</th>\n",
              "      <td>False</td>\n",
              "    </tr>\n",
              "    <tr>\n",
              "      <th>23521</th>\n",
              "      <td>False</td>\n",
              "    </tr>\n",
              "    <tr>\n",
              "      <th>23522</th>\n",
              "      <td>True</td>\n",
              "    </tr>\n",
              "    <tr>\n",
              "      <th>23523</th>\n",
              "      <td>False</td>\n",
              "    </tr>\n",
              "  </tbody>\n",
              "</table>\n",
              "<p>23524 rows × 1 columns</p>\n",
              "</div><br><label><b>dtype:</b> bool</label>"
            ]
          },
          "metadata": {},
          "execution_count": 76
        }
      ]
    },
    {
      "cell_type": "code",
      "source": [
        "train.groupby(\"cellphone_access\")[\"bank_account\"].value_counts(normalize=True)"
      ],
      "metadata": {
        "id": "T_MMFEAkp5ww",
        "outputId": "21f96377-d15e-40bf-fdba-9d77f5fd8a88",
        "colab": {
          "base_uri": "https://localhost:8080/",
          "height": 241
        }
      },
      "execution_count": 44,
      "outputs": [
        {
          "output_type": "execute_result",
          "data": {
            "text/plain": [
              "cellphone_access  bank_account\n",
              "No                No              0.982867\n",
              "                  Yes             0.017133\n",
              "Yes               No              0.816203\n",
              "                  Yes             0.183797\n",
              "Name: proportion, dtype: float64"
            ],
            "text/html": [
              "<div>\n",
              "<style scoped>\n",
              "    .dataframe tbody tr th:only-of-type {\n",
              "        vertical-align: middle;\n",
              "    }\n",
              "\n",
              "    .dataframe tbody tr th {\n",
              "        vertical-align: top;\n",
              "    }\n",
              "\n",
              "    .dataframe thead th {\n",
              "        text-align: right;\n",
              "    }\n",
              "</style>\n",
              "<table border=\"1\" class=\"dataframe\">\n",
              "  <thead>\n",
              "    <tr style=\"text-align: right;\">\n",
              "      <th></th>\n",
              "      <th></th>\n",
              "      <th>proportion</th>\n",
              "    </tr>\n",
              "    <tr>\n",
              "      <th>cellphone_access</th>\n",
              "      <th>bank_account</th>\n",
              "      <th></th>\n",
              "    </tr>\n",
              "  </thead>\n",
              "  <tbody>\n",
              "    <tr>\n",
              "      <th rowspan=\"2\" valign=\"top\">No</th>\n",
              "      <th>No</th>\n",
              "      <td>0.982867</td>\n",
              "    </tr>\n",
              "    <tr>\n",
              "      <th>Yes</th>\n",
              "      <td>0.017133</td>\n",
              "    </tr>\n",
              "    <tr>\n",
              "      <th rowspan=\"2\" valign=\"top\">Yes</th>\n",
              "      <th>No</th>\n",
              "      <td>0.816203</td>\n",
              "    </tr>\n",
              "    <tr>\n",
              "      <th>Yes</th>\n",
              "      <td>0.183797</td>\n",
              "    </tr>\n",
              "  </tbody>\n",
              "</table>\n",
              "</div><br><label><b>dtype:</b> float64</label>"
            ]
          },
          "metadata": {},
          "execution_count": 44
        }
      ]
    },
    {
      "cell_type": "code",
      "source": [
        "train.groupby(\"location_type\")[\"bank_account\"].value_counts(normalize=True)\n"
      ],
      "metadata": {
        "id": "O66LEwXOqePc",
        "outputId": "adfd3747-d39d-453c-b51a-744a4f7b7c30",
        "colab": {
          "base_uri": "https://localhost:8080/",
          "height": 241
        }
      },
      "execution_count": 45,
      "outputs": [
        {
          "output_type": "execute_result",
          "data": {
            "text/plain": [
              "location_type  bank_account\n",
              "Rural          No              0.883497\n",
              "               Yes             0.116503\n",
              "Urban          No              0.821261\n",
              "               Yes             0.178739\n",
              "Name: proportion, dtype: float64"
            ],
            "text/html": [
              "<div>\n",
              "<style scoped>\n",
              "    .dataframe tbody tr th:only-of-type {\n",
              "        vertical-align: middle;\n",
              "    }\n",
              "\n",
              "    .dataframe tbody tr th {\n",
              "        vertical-align: top;\n",
              "    }\n",
              "\n",
              "    .dataframe thead th {\n",
              "        text-align: right;\n",
              "    }\n",
              "</style>\n",
              "<table border=\"1\" class=\"dataframe\">\n",
              "  <thead>\n",
              "    <tr style=\"text-align: right;\">\n",
              "      <th></th>\n",
              "      <th></th>\n",
              "      <th>proportion</th>\n",
              "    </tr>\n",
              "    <tr>\n",
              "      <th>location_type</th>\n",
              "      <th>bank_account</th>\n",
              "      <th></th>\n",
              "    </tr>\n",
              "  </thead>\n",
              "  <tbody>\n",
              "    <tr>\n",
              "      <th rowspan=\"2\" valign=\"top\">Rural</th>\n",
              "      <th>No</th>\n",
              "      <td>0.883497</td>\n",
              "    </tr>\n",
              "    <tr>\n",
              "      <th>Yes</th>\n",
              "      <td>0.116503</td>\n",
              "    </tr>\n",
              "    <tr>\n",
              "      <th rowspan=\"2\" valign=\"top\">Urban</th>\n",
              "      <th>No</th>\n",
              "      <td>0.821261</td>\n",
              "    </tr>\n",
              "    <tr>\n",
              "      <th>Yes</th>\n",
              "      <td>0.178739</td>\n",
              "    </tr>\n",
              "  </tbody>\n",
              "</table>\n",
              "</div><br><label><b>dtype:</b> float64</label>"
            ]
          },
          "metadata": {},
          "execution_count": 45
        }
      ]
    },
    {
      "cell_type": "code",
      "source": [
        "prob_country_bank_account = train.groupby(\"mobile_bank_account\")[\"bank_account\"].value_counts(normalize=True).round(2)\n",
        "\n",
        "prob_country_bank_account = prob_country_bank_account.reset_index(name=\"prob\").set_index(\"mobile_bank_account\")\n",
        "\n",
        "prob_country_bank_account[prob_country_bank_account[\"bank_account\"] == \"Yes\"].plot(kind=\"bar\", title=\"Probability of Bank Account by Country\", figsize=(10, 4));"
      ],
      "metadata": {
        "id": "TkNsRb1OqkSN",
        "outputId": "d88e7dd7-8e17-40f6-d6bd-4fbdd4e91b96",
        "colab": {
          "base_uri": "https://localhost:8080/",
          "height": 431
        }
      },
      "execution_count": 49,
      "outputs": [
        {
          "output_type": "display_data",
          "data": {
            "text/plain": [
              "<Figure size 1000x400 with 1 Axes>"
            ],
            "image/png": "[encoded data removed]"
          },
          "metadata": {}
        }
      ]
    },
    {
      "cell_type": "markdown",
      "source": [
        "# education Level"
      ],
      "metadata": {
        "id": "tSYJ7sj8xO2v"
      }
    },
    {
      "cell_type": "code",
      "source": [
        "train[\"education_level\"].unique()"
      ],
      "metadata": {
        "id": "-Jl1Za8Zv9if",
        "outputId": "bfd1c8b4-2a11-4f68-fbdf-d4e5dc0ba7ed",
        "colab": {
          "base_uri": "https://localhost:8080/"
        }
      },
      "execution_count": 52,
      "outputs": [
        {
          "output_type": "execute_result",
          "data": {
            "text/plain": [
              "array(['Secondary education', 'No formal education',\n",
              "       'Vocational/Specialised training', 'Primary education',\n",
              "       'Tertiary education', 'Other/Dont know/RTA'], dtype=object)"
            ]
          },
          "metadata": {},
          "execution_count": 52
        }
      ]
    },
    {
      "cell_type": "code",
      "source": [
        "high_level_edu = set([\"Tertiary education\", \"Secondary education\", \"Vocational/Specialised training\"])\n",
        "\n",
        "# mobile_banking = education_level + cellphone_level + location_type\n",
        "train[\"mobile_banking\"] = (\n",
        "    train[\"education_level\"].isin(high_level_edu)\n",
        "    & (train[\"cellphone_access\"] == \"Yes\")\n",
        "    & (train[\"location_type\"] == \"Urban\")\n",
        ")"
      ],
      "metadata": {
        "id": "7YPlSTr7xVKD"
      },
      "execution_count": 79,
      "outputs": []
    },
    {
      "cell_type": "code",
      "source": [
        "train.groupby(\"mobile_banking\")[\"bank_account\"].value_counts(normalize=True)"
      ],
      "metadata": {
        "id": "I45jgYKrzHx1",
        "outputId": "5c70283d-3ac5-456d-ba3d-667b720c1e76",
        "colab": {
          "base_uri": "https://localhost:8080/",
          "height": 241
        }
      },
      "execution_count": 80,
      "outputs": [
        {
          "output_type": "execute_result",
          "data": {
            "text/plain": [
              "mobile_banking  bank_account\n",
              "False           No              0.897104\n",
              "                Yes             0.102896\n",
              "True            No              0.554231\n",
              "                Yes             0.445769\n",
              "Name: proportion, dtype: float64"
            ],
            "text/html": [
              "<div>\n",
              "<style scoped>\n",
              "    .dataframe tbody tr th:only-of-type {\n",
              "        vertical-align: middle;\n",
              "    }\n",
              "\n",
              "    .dataframe tbody tr th {\n",
              "        vertical-align: top;\n",
              "    }\n",
              "\n",
              "    .dataframe thead th {\n",
              "        text-align: right;\n",
              "    }\n",
              "</style>\n",
              "<table border=\"1\" class=\"dataframe\">\n",
              "  <thead>\n",
              "    <tr style=\"text-align: right;\">\n",
              "      <th></th>\n",
              "      <th></th>\n",
              "      <th>proportion</th>\n",
              "    </tr>\n",
              "    <tr>\n",
              "      <th>mobile_banking</th>\n",
              "      <th>bank_account</th>\n",
              "      <th></th>\n",
              "    </tr>\n",
              "  </thead>\n",
              "  <tbody>\n",
              "    <tr>\n",
              "      <th rowspan=\"2\" valign=\"top\">False</th>\n",
              "      <th>No</th>\n",
              "      <td>0.897104</td>\n",
              "    </tr>\n",
              "    <tr>\n",
              "      <th>Yes</th>\n",
              "      <td>0.102896</td>\n",
              "    </tr>\n",
              "    <tr>\n",
              "      <th rowspan=\"2\" valign=\"top\">True</th>\n",
              "      <th>No</th>\n",
              "      <td>0.554231</td>\n",
              "    </tr>\n",
              "    <tr>\n",
              "      <th>Yes</th>\n",
              "      <td>0.445769</td>\n",
              "    </tr>\n",
              "  </tbody>\n",
              "</table>\n",
              "</div><br><label><b>dtype:</b> float64</label>"
            ]
          },
          "metadata": {},
          "execution_count": 80
        }
      ]
    },
    {
      "cell_type": "code",
      "source": [
        "train.info()"
      ],
      "metadata": {
        "id": "xCeH9Y_O0MYq",
        "outputId": "582d36d4-3a8d-4879-9837-4027672a752e",
        "colab": {
          "base_uri": "https://localhost:8080/"
        }
      },
      "execution_count": 81,
      "outputs": [
        {
          "output_type": "stream",
          "name": "stdout",
          "text": [
            "<class 'pandas.core.frame.DataFrame'>\n",
            "RangeIndex: 23524 entries, 0 to 23523\n",
            "Data columns (total 15 columns):\n",
            " #   Column                  Non-Null Count  Dtype  \n",
            "---  ------                  --------------  -----  \n",
            " 0   country                 23524 non-null  object \n",
            " 1   year                    23524 non-null  int64  \n",
            " 2   uniqueid                23524 non-null  object \n",
            " 3   bank_account            23524 non-null  object \n",
            " 4   location_type           23524 non-null  object \n",
            " 5   cellphone_access        23524 non-null  object \n",
            " 6   household_size          23524 non-null  int64  \n",
            " 7   age_of_respondent       23524 non-null  int64  \n",
            " 8   gender_of_respondent    23524 non-null  object \n",
            " 9   relationship_with_head  23524 non-null  object \n",
            " 10  marital_status          23524 non-null  object \n",
            " 11  education_level         23524 non-null  object \n",
            " 12  job_type                23524 non-null  object \n",
            " 13  inflation_rate_2019     23524 non-null  float64\n",
            " 14  mobile_banking          23524 non-null  bool   \n",
            "dtypes: bool(1), float64(1), int64(3), object(10)\n",
            "memory usage: 2.5+ MB\n"
          ]
        }
      ]
    },
    {
      "cell_type": "markdown",
      "source": [
        "## Job Type"
      ],
      "metadata": {
        "id": "fcWps7s04U08"
      }
    },
    {
      "cell_type": "code",
      "source": [
        "train[\"job_type\"].value_counts(normalize=True)"
      ],
      "metadata": {
        "id": "cdaoBkKd4Oaw",
        "outputId": "971f70dc-0d3a-4758-d14a-8dfbc9685db6",
        "colab": {
          "base_uri": "https://localhost:8080/",
          "height": 429
        }
      },
      "execution_count": 82,
      "outputs": [
        {
          "output_type": "execute_result",
          "data": {
            "text/plain": [
              "job_type\n",
              "Self employed                   0.273635\n",
              "Informally employed             0.237927\n",
              "Farming and Fishing             0.231296\n",
              "Remittance Dependent            0.107422\n",
              "Other Income                    0.045911\n",
              "Formally employed Private       0.044848\n",
              "No Income                       0.026654\n",
              "Formally employed Government    0.016451\n",
              "Government Dependent            0.010500\n",
              "Dont Know/Refuse to answer      0.005356\n",
              "Name: proportion, dtype: float64"
            ],
            "text/html": [
              "<div>\n",
              "<style scoped>\n",
              "    .dataframe tbody tr th:only-of-type {\n",
              "        vertical-align: middle;\n",
              "    }\n",
              "\n",
              "    .dataframe tbody tr th {\n",
              "        vertical-align: top;\n",
              "    }\n",
              "\n",
              "    .dataframe thead th {\n",
              "        text-align: right;\n",
              "    }\n",
              "</style>\n",
              "<table border=\"1\" class=\"dataframe\">\n",
              "  <thead>\n",
              "    <tr style=\"text-align: right;\">\n",
              "      <th></th>\n",
              "      <th>proportion</th>\n",
              "    </tr>\n",
              "    <tr>\n",
              "      <th>job_type</th>\n",
              "      <th></th>\n",
              "    </tr>\n",
              "  </thead>\n",
              "  <tbody>\n",
              "    <tr>\n",
              "      <th>Self employed</th>\n",
              "      <td>0.273635</td>\n",
              "    </tr>\n",
              "    <tr>\n",
              "      <th>Informally employed</th>\n",
              "      <td>0.237927</td>\n",
              "    </tr>\n",
              "    <tr>\n",
              "      <th>Farming and Fishing</th>\n",
              "      <td>0.231296</td>\n",
              "    </tr>\n",
              "    <tr>\n",
              "      <th>Remittance Dependent</th>\n",
              "      <td>0.107422</td>\n",
              "    </tr>\n",
              "    <tr>\n",
              "      <th>Other Income</th>\n",
              "      <td>0.045911</td>\n",
              "    </tr>\n",
              "    <tr>\n",
              "      <th>Formally employed Private</th>\n",
              "      <td>0.044848</td>\n",
              "    </tr>\n",
              "    <tr>\n",
              "      <th>No Income</th>\n",
              "      <td>0.026654</td>\n",
              "    </tr>\n",
              "    <tr>\n",
              "      <th>Formally employed Government</th>\n",
              "      <td>0.016451</td>\n",
              "    </tr>\n",
              "    <tr>\n",
              "      <th>Government Dependent</th>\n",
              "      <td>0.010500</td>\n",
              "    </tr>\n",
              "    <tr>\n",
              "      <th>Dont Know/Refuse to answer</th>\n",
              "      <td>0.005356</td>\n",
              "    </tr>\n",
              "  </tbody>\n",
              "</table>\n",
              "</div><br><label><b>dtype:</b> float64</label>"
            ]
          },
          "metadata": {},
          "execution_count": 82
        }
      ]
    },
    {
      "cell_type": "code",
      "source": [
        "train_job_type = train.groupby(\"job_type\")[\"bank_account\"].value_counts(normalize=True).reset_index(name=\"prob\").set_index(\"job_type\")"
      ],
      "metadata": {
        "id": "1M1ecN9M4bcv"
      },
      "execution_count": 84,
      "outputs": []
    },
    {
      "cell_type": "code",
      "source": [
        "sns.barplot(data=train_job_type, x=train_job_type.index, y=\"prob\", hue=\"bank_account\")\n",
        "\n",
        "fig = plt.gcf()\n",
        "fig.set_size_inches(10, 4)\n",
        "\n",
        "plt.title(\"Probability of Bank Account by Job Type\");\n",
        "plt.xlabel(\"Job Type\");\n",
        "plt.ylabel(\"Probability\");\n",
        "plt.legend(title=\"Bank Account\");\n",
        "plt.xticks(rotation=90);"
      ],
      "metadata": {
        "id": "gvize25N4lpa",
        "outputId": "f6beb4df-788f-46b6-db8c-d12268ae0609",
        "colab": {
          "base_uri": "https://localhost:8080/",
          "height": 620
        }
      },
      "execution_count": 91,
      "outputs": [
        {
          "output_type": "display_data",
          "data": {
            "text/plain": [
              "<Figure size 1000x400 with 1 Axes>"
            ],
            "image/png": "[encoded data removed]"
          },
          "metadata": {}
        }
      ]
    },
    {
      "cell_type": "code",
      "source": [
        "train_job_type = train.groupby(\"job_type\")[\"bank_account\"].value_counts(normalize=True).reset_index(name=\"prob\").set_index(\"job_type\")\n",
        "mask_job_type = (train_job_type[\"bank_account\"] == \"Yes\") & (train_job_type[\"prob\"] <= 0.2)\n",
        "other_job_type = train_job_type[mask_job_type].index.to_list()\n",
        "\n",
        "other_job_type"
      ],
      "metadata": {
        "id": "98xa1_Md5JdZ",
        "outputId": "8b97749b-aa89-4346-e714-2128374ced17",
        "colab": {
          "base_uri": "https://localhost:8080/"
        }
      },
      "execution_count": 105,
      "outputs": [
        {
          "output_type": "execute_result",
          "data": {
            "text/plain": [
              "['Dont Know/Refuse to answer',\n",
              " 'Farming and Fishing',\n",
              " 'Informally employed',\n",
              " 'No Income',\n",
              " 'Remittance Dependent',\n",
              " 'Self employed']"
            ]
          },
          "metadata": {},
          "execution_count": 105
        }
      ]
    },
    {
      "cell_type": "code",
      "source": [
        "train.groupby(\"job_type\")[\"bank_account\"].value_counts(normalize=True)"
      ],
      "metadata": {
        "id": "J8tpfze97HaR",
        "outputId": "5d609b3d-bcb1-44ad-8415-8eae6bdf2c9a",
        "colab": {
          "base_uri": "https://localhost:8080/",
          "height": 366
        }
      },
      "execution_count": 111,
      "outputs": [
        {
          "output_type": "execute_result",
          "data": {
            "text/plain": [
              "job_type                      bank_account\n",
              "Formally employed Government  Yes             0.775194\n",
              "                              No              0.224806\n",
              "Formally employed Private     Yes             0.541232\n",
              "                              No              0.458768\n",
              "Government Dependent          No              0.797571\n",
              "                              Yes             0.202429\n",
              "Other                         No              0.890497\n",
              "                              Yes             0.109503\n",
              "Name: proportion, dtype: float64"
            ],
            "text/html": [
              "<div>\n",
              "<style scoped>\n",
              "    .dataframe tbody tr th:only-of-type {\n",
              "        vertical-align: middle;\n",
              "    }\n",
              "\n",
              "    .dataframe tbody tr th {\n",
              "        vertical-align: top;\n",
              "    }\n",
              "\n",
              "    .dataframe thead th {\n",
              "        text-align: right;\n",
              "    }\n",
              "</style>\n",
              "<table border=\"1\" class=\"dataframe\">\n",
              "  <thead>\n",
              "    <tr style=\"text-align: right;\">\n",
              "      <th></th>\n",
              "      <th></th>\n",
              "      <th>proportion</th>\n",
              "    </tr>\n",
              "    <tr>\n",
              "      <th>job_type</th>\n",
              "      <th>bank_account</th>\n",
              "      <th></th>\n",
              "    </tr>\n",
              "  </thead>\n",
              "  <tbody>\n",
              "    <tr>\n",
              "      <th rowspan=\"2\" valign=\"top\">Formally employed Government</th>\n",
              "      <th>Yes</th>\n",
              "      <td>0.775194</td>\n",
              "    </tr>\n",
              "    <tr>\n",
              "      <th>No</th>\n",
              "      <td>0.224806</td>\n",
              "    </tr>\n",
              "    <tr>\n",
              "      <th rowspan=\"2\" valign=\"top\">Formally employed Private</th>\n",
              "      <th>Yes</th>\n",
              "      <td>0.541232</td>\n",
              "    </tr>\n",
              "    <tr>\n",
              "      <th>No</th>\n",
              "      <td>0.458768</td>\n",
              "    </tr>\n",
              "    <tr>\n",
              "      <th rowspan=\"2\" valign=\"top\">Government Dependent</th>\n",
              "      <th>No</th>\n",
              "      <td>0.797571</td>\n",
              "    </tr>\n",
              "    <tr>\n",
              "      <th>Yes</th>\n",
              "      <td>0.202429</td>\n",
              "    </tr>\n",
              "    <tr>\n",
              "      <th rowspan=\"2\" valign=\"top\">Other</th>\n",
              "      <th>No</th>\n",
              "      <td>0.890497</td>\n",
              "    </tr>\n",
              "    <tr>\n",
              "      <th>Yes</th>\n",
              "      <td>0.109503</td>\n",
              "    </tr>\n",
              "  </tbody>\n",
              "</table>\n",
              "</div><br><label><b>dtype:</b> float64</label>"
            ]
          },
          "metadata": {},
          "execution_count": 111
        }
      ]
    },
    {
      "cell_type": "markdown",
      "source": [
        "# Gender response"
      ],
      "metadata": {
        "id": "zMPFceQL_RJr"
      }
    },
    {
      "cell_type": "code",
      "source": [
        "train[\"gender_of_respondent\"].value_counts(normalize=True)"
      ],
      "metadata": {
        "id": "YtUOlRAX-eBz",
        "outputId": "c36d45fb-6c35-4ca7-d505-6fb5d19346d4",
        "colab": {
          "base_uri": "https://localhost:8080/",
          "height": 178
        }
      },
      "execution_count": 112,
      "outputs": [
        {
          "output_type": "execute_result",
          "data": {
            "text/plain": [
              "gender_of_respondent\n",
              "Female    0.589908\n",
              "Male      0.410092\n",
              "Name: proportion, dtype: float64"
            ],
            "text/html": [
              "<div>\n",
              "<style scoped>\n",
              "    .dataframe tbody tr th:only-of-type {\n",
              "        vertical-align: middle;\n",
              "    }\n",
              "\n",
              "    .dataframe tbody tr th {\n",
              "        vertical-align: top;\n",
              "    }\n",
              "\n",
              "    .dataframe thead th {\n",
              "        text-align: right;\n",
              "    }\n",
              "</style>\n",
              "<table border=\"1\" class=\"dataframe\">\n",
              "  <thead>\n",
              "    <tr style=\"text-align: right;\">\n",
              "      <th></th>\n",
              "      <th>proportion</th>\n",
              "    </tr>\n",
              "    <tr>\n",
              "      <th>gender_of_respondent</th>\n",
              "      <th></th>\n",
              "    </tr>\n",
              "  </thead>\n",
              "  <tbody>\n",
              "    <tr>\n",
              "      <th>Female</th>\n",
              "      <td>0.589908</td>\n",
              "    </tr>\n",
              "    <tr>\n",
              "      <th>Male</th>\n",
              "      <td>0.410092</td>\n",
              "    </tr>\n",
              "  </tbody>\n",
              "</table>\n",
              "</div><br><label><b>dtype:</b> float64</label>"
            ]
          },
          "metadata": {},
          "execution_count": 112
        }
      ]
    },
    {
      "cell_type": "code",
      "source": [
        "train.groupby(\"gender_of_respondent\")[\"bank_account\"].value_counts(normalize=True)"
      ],
      "metadata": {
        "id": "2tVHw4Wg_WE6",
        "outputId": "ab728419-61ee-4f39-8e4a-5d831f686fad",
        "colab": {
          "base_uri": "https://localhost:8080/",
          "height": 241
        }
      },
      "execution_count": 113,
      "outputs": [
        {
          "output_type": "execute_result",
          "data": {
            "text/plain": [
              "gender_of_respondent  bank_account\n",
              "Female                No              0.893205\n",
              "                      Yes             0.106795\n",
              "Male                  No              0.810304\n",
              "                      Yes             0.189696\n",
              "Name: proportion, dtype: float64"
            ],
            "text/html": [
              "<div>\n",
              "<style scoped>\n",
              "    .dataframe tbody tr th:only-of-type {\n",
              "        vertical-align: middle;\n",
              "    }\n",
              "\n",
              "    .dataframe tbody tr th {\n",
              "        vertical-align: top;\n",
              "    }\n",
              "\n",
              "    .dataframe thead th {\n",
              "        text-align: right;\n",
              "    }\n",
              "</style>\n",
              "<table border=\"1\" class=\"dataframe\">\n",
              "  <thead>\n",
              "    <tr style=\"text-align: right;\">\n",
              "      <th></th>\n",
              "      <th></th>\n",
              "      <th>proportion</th>\n",
              "    </tr>\n",
              "    <tr>\n",
              "      <th>gender_of_respondent</th>\n",
              "      <th>bank_account</th>\n",
              "      <th></th>\n",
              "    </tr>\n",
              "  </thead>\n",
              "  <tbody>\n",
              "    <tr>\n",
              "      <th rowspan=\"2\" valign=\"top\">Female</th>\n",
              "      <th>No</th>\n",
              "      <td>0.893205</td>\n",
              "    </tr>\n",
              "    <tr>\n",
              "      <th>Yes</th>\n",
              "      <td>0.106795</td>\n",
              "    </tr>\n",
              "    <tr>\n",
              "      <th rowspan=\"2\" valign=\"top\">Male</th>\n",
              "      <th>No</th>\n",
              "      <td>0.810304</td>\n",
              "    </tr>\n",
              "    <tr>\n",
              "      <th>Yes</th>\n",
              "      <td>0.189696</td>\n",
              "    </tr>\n",
              "  </tbody>\n",
              "</table>\n",
              "</div><br><label><b>dtype:</b> float64</label>"
            ]
          },
          "metadata": {},
          "execution_count": 113
        }
      ]
    },
    {
      "cell_type": "markdown",
      "source": [
        "# Maritual Status"
      ],
      "metadata": {
        "id": "-YQtEd9y_g6P"
      }
    },
    {
      "cell_type": "code",
      "source": [
        "train[\"marital_status\"].value_counts(normalize=True)"
      ],
      "metadata": {
        "id": "XIhe0hXJ_bCM",
        "outputId": "82ee9c9d-751e-4cef-d5aa-98d6727bca12",
        "colab": {
          "base_uri": "https://localhost:8080/",
          "height": 272
        }
      },
      "execution_count": 114,
      "outputs": [
        {
          "output_type": "execute_result",
          "data": {
            "text/plain": [
              "marital_status\n",
              "Married/Living together    0.456938\n",
              "Single/Never Married       0.339356\n",
              "Widowed                    0.115116\n",
              "Divorced/Seperated         0.088250\n",
              "Dont know                  0.000340\n",
              "Name: proportion, dtype: float64"
            ],
            "text/html": [
              "<div>\n",
              "<style scoped>\n",
              "    .dataframe tbody tr th:only-of-type {\n",
              "        vertical-align: middle;\n",
              "    }\n",
              "\n",
              "    .dataframe tbody tr th {\n",
              "        vertical-align: top;\n",
              "    }\n",
              "\n",
              "    .dataframe thead th {\n",
              "        text-align: right;\n",
              "    }\n",
              "</style>\n",
              "<table border=\"1\" class=\"dataframe\">\n",
              "  <thead>\n",
              "    <tr style=\"text-align: right;\">\n",
              "      <th></th>\n",
              "      <th>proportion</th>\n",
              "    </tr>\n",
              "    <tr>\n",
              "      <th>marital_status</th>\n",
              "      <th></th>\n",
              "    </tr>\n",
              "  </thead>\n",
              "  <tbody>\n",
              "    <tr>\n",
              "      <th>Married/Living together</th>\n",
              "      <td>0.456938</td>\n",
              "    </tr>\n",
              "    <tr>\n",
              "      <th>Single/Never Married</th>\n",
              "      <td>0.339356</td>\n",
              "    </tr>\n",
              "    <tr>\n",
              "      <th>Widowed</th>\n",
              "      <td>0.115116</td>\n",
              "    </tr>\n",
              "    <tr>\n",
              "      <th>Divorced/Seperated</th>\n",
              "      <td>0.088250</td>\n",
              "    </tr>\n",
              "    <tr>\n",
              "      <th>Dont know</th>\n",
              "      <td>0.000340</td>\n",
              "    </tr>\n",
              "  </tbody>\n",
              "</table>\n",
              "</div><br><label><b>dtype:</b> float64</label>"
            ]
          },
          "metadata": {},
          "execution_count": 114
        }
      ]
    },
    {
      "cell_type": "code",
      "source": [
        "train_marital_status = train.groupby(\"marital_status\")[\"bank_account\"].value_counts(normalize=True).reset_index(name=\"prob\").set_index(\"marital_status\")"
      ],
      "metadata": {
        "id": "oCTUDjkg_loG"
      },
      "execution_count": 116,
      "outputs": []
    },
    {
      "cell_type": "code",
      "source": [
        "sns.barplot(data=train_marital_status, x=train_marital_status.index, y=\"prob\", hue=\"bank_account\")\n",
        "\n",
        "fig = plt.gcf()\n",
        "fig.set_size_inches(10, 4)\n",
        "\n",
        "plt.title(\"Probability of Bank Account by Marital Status\");\n",
        "plt.xlabel(\"Marital Status\");\n",
        "plt.ylabel(\"Probability\");\n",
        "plt.legend(title=\"Bank Account\");"
      ],
      "metadata": {
        "id": "Uo2-1PjI_o3H",
        "outputId": "6393d532-a215-44d9-dce9-972e1b73a457",
        "colab": {
          "base_uri": "https://localhost:8080/",
          "height": 410
        }
      },
      "execution_count": 118,
      "outputs": [
        {
          "output_type": "display_data",
          "data": {
            "text/plain": [
              "<Figure size 1000x400 with 1 Axes>"
            ],
            "image/png": "[encoded data removed]"
          },
          "metadata": {}
        }
      ]
    },
    {
      "cell_type": "code",
      "source": [
        "train_marital_status[train_marital_status[\"bank_account\"] == \"Yes\"]"
      ],
      "metadata": {
        "id": "jcDWoqsy_uk-",
        "outputId": "b6fa57ea-8e55-48ee-8c8a-3c49cdb0fc30",
        "colab": {
          "base_uri": "https://localhost:8080/",
          "height": 237
        }
      },
      "execution_count": 119,
      "outputs": [
        {
          "output_type": "execute_result",
          "data": {
            "text/plain": [
              "                        bank_account      prob\n",
              "marital_status                                \n",
              "Divorced/Seperated               Yes  0.112717\n",
              "Dont know                        Yes  0.250000\n",
              "Married/Living together          Yes  0.173598\n",
              "Single/Never Married             Yes  0.121007\n",
              "Widowed                          Yes  0.090103"
            ],
            "text/html": [
              "\n",
              "  <div id=\"df-0e5575ca-e72c-4c49-873a-906531da3263\" class=\"colab-df-container\">\n",
              "    <div>\n",
              "<style scoped>\n",
              "    .dataframe tbody tr th:only-of-type {\n",
              "        vertical-align: middle;\n",
              "    }\n",
              "\n",
              "    .dataframe tbody tr th {\n",
              "        vertical-align: top;\n",
              "    }\n",
              "\n",
              "    .dataframe thead th {\n",
              "        text-align: right;\n",
              "    }\n",
              "</style>\n",
              "<table border=\"1\" class=\"dataframe\">\n",
              "  <thead>\n",
              "    <tr style=\"text-align: right;\">\n",
              "      <th></th>\n",
              "      <th>bank_account</th>\n",
              "      <th>prob</th>\n",
              "    </tr>\n",
              "    <tr>\n",
              "      <th>marital_status</th>\n",
              "      <th></th>\n",
              "      <th></th>\n",
              "    </tr>\n",
              "  </thead>\n",
              "  <tbody>\n",
              "    <tr>\n",
              "      <th>Divorced/Seperated</th>\n",
              "      <td>Yes</td>\n",
              "      <td>0.112717</td>\n",
              "    </tr>\n",
              "    <tr>\n",
              "      <th>Dont know</th>\n",
              "      <td>Yes</td>\n",
              "      <td>0.250000</td>\n",
              "    </tr>\n",
              "    <tr>\n",
              "      <th>Married/Living together</th>\n",
              "      <td>Yes</td>\n",
              "      <td>0.173598</td>\n",
              "    </tr>\n",
              "    <tr>\n",
              "      <th>Single/Never Married</th>\n",
              "      <td>Yes</td>\n",
              "      <td>0.121007</td>\n",
              "    </tr>\n",
              "    <tr>\n",
              "      <th>Widowed</th>\n",
              "      <td>Yes</td>\n",
              "      <td>0.090103</td>\n",
              "    </tr>\n",
              "  </tbody>\n",
              "</table>\n",
              "</div>\n",
              "    <div class=\"colab-df-buttons\">\n",
              "\n",
              "  <div class=\"colab-df-container\">\n",
              "    <button class=\"colab-df-convert\" onclick=\"convertToInteractive('df-0e5575ca-e72c-4c49-873a-906531da3263')\"\n",
              "            title=\"Convert this dataframe to an interactive table.\"\n",
              "            style=\"display:none;\">\n",
              "\n",
              "  <svg xmlns=\"http://www.w3.org/2000/svg\" height=\"24px\" viewBox=\"0 -960 960 960\">\n",
              "    <path d=\"M120-120v-720h720v720H120Zm60-500h600v-160H180v160Zm220 220h160v-160H400v160Zm0 220h160v-160H400v160ZM180-400h160v-160H180v160Zm440 0h160v-160H620v160ZM180-180h160v-160H180v160Zm440 0h160v-160H620v160Z\"/>\n",
              "  </svg>\n",
              "    </button>\n",
              "\n",
              "  <style>\n",
              "    .colab-df-container {\n",
              "      display:flex;\n",
              "      gap: 12px;\n",
              "    }\n",
              "\n",
              "    .colab-df-convert {\n",
              "      background-color: #E8F0FE;\n",
              "      border: none;\n",
              "      border-radius: 50%;\n",
              "      cursor: pointer;\n",
              "      display: none;\n",
              "      fill: #1967D2;\n",
              "      height: 32px;\n",
              "      padding: 0 0 0 0;\n",
              "      width: 32px;\n",
              "    }\n",
              "\n",
              "    .colab-df-convert:hover {\n",
              "      background-color: #E2EBFA;\n",
              "      box-shadow: 0px 1px 2px rgba(60, 64, 67, 0.3), 0px 1px 3px 1px rgba(60, 64, 67, 0.15);\n",
              "      fill: #174EA6;\n",
              "    }\n",
              "\n",
              "    .colab-df-buttons div {\n",
              "      margin-bottom: 4px;\n",
              "    }\n",
              "\n",
              "    [theme=dark] .colab-df-convert {\n",
              "      background-color: #3B4455;\n",
              "      fill: #D2E3FC;\n",
              "    }\n",
              "\n",
              "    [theme=dark] .colab-df-convert:hover {\n",
              "      background-color: #434B5C;\n",
              "      box-shadow: 0px 1px 3px 1px rgba(0, 0, 0, 0.15);\n",
              "      filter: drop-shadow(0px 1px 2px rgba(0, 0, 0, 0.3));\n",
              "      fill: #FFFFFF;\n",
              "    }\n",
              "  </style>\n",
              "\n",
              "    <script>\n",
              "      const buttonEl =\n",
              "        document.querySelector('#df-0e5575ca-e72c-4c49-873a-906531da3263 button.colab-df-convert');\n",
              "      buttonEl.style.display =\n",
              "        google.colab.kernel.accessAllowed ? 'block' : 'none';\n",
              "\n",
              "      async function convertToInteractive(key) {\n",
              "        const element = document.querySelector('#df-0e5575ca-e72c-4c49-873a-906531da3263');\n",
              "        const dataTable =\n",
              "          await google.colab.kernel.invokeFunction('convertToInteractive',\n",
              "                                                    [key], {});\n",
              "        if (!dataTable) return;\n",
              "\n",
              "        const docLinkHtml = 'Like what you see? Visit the ' +\n",
              "          '<a target=\"_blank\" href=https://colab.research.google.com/notebooks/data_table.ipynb>data table notebook</a>'\n",
              "          + ' to learn more about interactive tables.';\n",
              "        element.innerHTML = '';\n",
              "        dataTable['output_type'] = 'display_data';\n",
              "        await google.colab.output.renderOutput(dataTable, element);\n",
              "        const docLink = document.createElement('div');\n",
              "        docLink.innerHTML = docLinkHtml;\n",
              "        element.appendChild(docLink);\n",
              "      }\n",
              "    </script>\n",
              "  </div>\n",
              "\n",
              "\n",
              "<div id=\"df-ee7f8b0d-0e1a-454b-a3d1-6fb06dc41bd1\">\n",
              "  <button class=\"colab-df-quickchart\" onclick=\"quickchart('df-ee7f8b0d-0e1a-454b-a3d1-6fb06dc41bd1')\"\n",
              "            title=\"Suggest charts\"\n",
              "            style=\"display:none;\">\n",
              "\n",
              "<svg xmlns=\"http://www.w3.org/2000/svg\" height=\"24px\"viewBox=\"0 0 24 24\"\n",
              "     width=\"24px\">\n",
              "    <g>\n",
              "        <path d=\"M19 3H5c-1.1 0-2 .9-2 2v14c0 1.1.9 2 2 2h14c1.1 0 2-.9 2-2V5c0-1.1-.9-2-2-2zM9 17H7v-7h2v7zm4 0h-2V7h2v10zm4 0h-2v-4h2v4z\"/>\n",
              "    </g>\n",
              "</svg>\n",
              "  </button>\n",
              "\n",
              "<style>\n",
              "  .colab-df-quickchart {\n",
              "      --bg-color: #E8F0FE;\n",
              "      --fill-color: #1967D2;\n",
              "      --hover-bg-color: #E2EBFA;\n",
              "      --hover-fill-color: #174EA6;\n",
              "      --disabled-fill-color: #AAA;\n",
              "      --disabled-bg-color: #DDD;\n",
              "  }\n",
              "\n",
              "  [theme=dark] .colab-df-quickchart {\n",
              "      --bg-color: #3B4455;\n",
              "      --fill-color: #D2E3FC;\n",
              "      --hover-bg-color: #434B5C;\n",
              "      --hover-fill-color: #FFFFFF;\n",
              "      --disabled-bg-color: #3B4455;\n",
              "      --disabled-fill-color: #666;\n",
              "  }\n",
              "\n",
              "  .colab-df-quickchart {\n",
              "    background-color: var(--bg-color);\n",
              "    border: none;\n",
              "    border-radius: 50%;\n",
              "    cursor: pointer;\n",
              "    display: none;\n",
              "    fill: var(--fill-color);\n",
              "    height: 32px;\n",
              "    padding: 0;\n",
              "    width: 32px;\n",
              "  }\n",
              "\n",
              "  .colab-df-quickchart:hover {\n",
              "    background-color: var(--hover-bg-color);\n",
              "    box-shadow: 0 1px 2px rgba(60, 64, 67, 0.3), 0 1px 3px 1px rgba(60, 64, 67, 0.15);\n",
              "    fill: var(--button-hover-fill-color);\n",
              "  }\n",
              "\n",
              "  .colab-df-quickchart-complete:disabled,\n",
              "  .colab-df-quickchart-complete:disabled:hover {\n",
              "    background-color: var(--disabled-bg-color);\n",
              "    fill: var(--disabled-fill-color);\n",
              "    box-shadow: none;\n",
              "  }\n",
              "\n",
              "  .colab-df-spinner {\n",
              "    border: 2px solid var(--fill-color);\n",
              "    border-color: transparent;\n",
              "    border-bottom-color: var(--fill-color);\n",
              "    animation:\n",
              "      spin 1s steps(1) infinite;\n",
              "  }\n",
              "\n",
              "  @keyframes spin {\n",
              "    0% {\n",
              "      border-color: transparent;\n",
              "      border-bottom-color: var(--fill-color);\n",
              "      border-left-color: var(--fill-color);\n",
              "    }\n",
              "    20% {\n",
              "      border-color: transparent;\n",
              "      border-left-color: var(--fill-color);\n",
              "      border-top-color: var(--fill-color);\n",
              "    }\n",
              "    30% {\n",
              "      border-color: transparent;\n",
              "      border-left-color: var(--fill-color);\n",
              "      border-top-color: var(--fill-color);\n",
              "      border-right-color: var(--fill-color);\n",
              "    }\n",
              "    40% {\n",
              "      border-color: transparent;\n",
              "      border-right-color: var(--fill-color);\n",
              "      border-top-color: var(--fill-color);\n",
              "    }\n",
              "    60% {\n",
              "      border-color: transparent;\n",
              "      border-right-color: var(--fill-color);\n",
              "    }\n",
              "    80% {\n",
              "      border-color: transparent;\n",
              "      border-right-color: var(--fill-color);\n",
              "      border-bottom-color: var(--fill-color);\n",
              "    }\n",
              "    90% {\n",
              "      border-color: transparent;\n",
              "      border-bottom-color: var(--fill-color);\n",
              "    }\n",
              "  }\n",
              "</style>\n",
              "\n",
              "  <script>\n",
              "    async function quickchart(key) {\n",
              "      const quickchartButtonEl =\n",
              "        document.querySelector('#' + key + ' button');\n",
              "      quickchartButtonEl.disabled = true;  // To prevent multiple clicks.\n",
              "      quickchartButtonEl.classList.add('colab-df-spinner');\n",
              "      try {\n",
              "        const charts = await google.colab.kernel.invokeFunction(\n",
              "            'suggestCharts', [key], {});\n",
              "      } catch (error) {\n",
              "        console.error('Error during call to suggestCharts:', error);\n",
              "      }\n",
              "      quickchartButtonEl.classList.remove('colab-df-spinner');\n",
              "      quickchartButtonEl.classList.add('colab-df-quickchart-complete');\n",
              "    }\n",
              "    (() => {\n",
              "      let quickchartButtonEl =\n",
              "        document.querySelector('#df-ee7f8b0d-0e1a-454b-a3d1-6fb06dc41bd1 button');\n",
              "      quickchartButtonEl.style.display =\n",
              "        google.colab.kernel.accessAllowed ? 'block' : 'none';\n",
              "    })();\n",
              "  </script>\n",
              "</div>\n",
              "\n",
              "    </div>\n",
              "  </div>\n"
            ],
            "application/vnd.google.colaboratory.intrinsic+json": {
              "type": "dataframe",
              "summary": "{\n  \"name\": \"train_marital_status[train_marital_status[\\\"bank_account\\\"] == \\\"Yes\\\"]\",\n  \"rows\": 5,\n  \"fields\": [\n    {\n      \"column\": \"marital_status\",\n      \"properties\": {\n        \"dtype\": \"string\",\n        \"num_unique_values\": 5,\n        \"samples\": [\n          \"Dont know\",\n          \"Widowed\",\n          \"Married/Living together\"\n        ],\n        \"semantic_type\": \"\",\n        \"description\": \"\"\n      }\n    },\n    {\n      \"column\": \"bank_account\",\n      \"properties\": {\n        \"dtype\": \"category\",\n        \"num_unique_values\": 1,\n        \"samples\": [\n          \"Yes\"\n        ],\n        \"semantic_type\": \"\",\n        \"description\": \"\"\n      }\n    },\n    {\n      \"column\": \"prob\",\n      \"properties\": {\n        \"dtype\": \"number\",\n        \"std\": 0.06397997047401721,\n        \"min\": 0.09010339734121123,\n        \"max\": 0.25,\n        \"num_unique_values\": 5,\n        \"samples\": [\n          0.25\n        ],\n        \"semantic_type\": \"\",\n        \"description\": \"\"\n      }\n    }\n  ]\n}"
            }
          },
          "metadata": {},
          "execution_count": 119
        }
      ]
    },
    {
      "cell_type": "markdown",
      "source": [
        "High Cardinality to low Cardinality\n",
        "\n",
        "if `marital_status` is not `Married/Living together` categorize to `Other`\n"
      ],
      "metadata": {
        "id": "0irgiWDFA77t"
      }
    },
    {
      "cell_type": "markdown",
      "source": [
        "# Releationship with head"
      ],
      "metadata": {
        "id": "DIfrGoKZBnqO"
      }
    },
    {
      "cell_type": "code",
      "source": [
        "train[\"relationship_with_head\"].value_counts(normalize=True)"
      ],
      "metadata": {
        "id": "0lEHsHIoAFjt",
        "outputId": "25aeccbf-c9cf-4c78-9b2d-ae486a023d38",
        "colab": {
          "base_uri": "https://localhost:8080/",
          "height": 303
        }
      },
      "execution_count": 124,
      "outputs": [
        {
          "output_type": "execute_result",
          "data": {
            "text/plain": [
              "relationship_with_head\n",
              "Head of Household      0.545443\n",
              "Spouse                 0.277164\n",
              "Child                  0.094754\n",
              "Parent                 0.046166\n",
              "Other relative         0.028397\n",
              "Other non-relatives    0.008077\n",
              "Name: proportion, dtype: float64"
            ],
            "text/html": [
              "<div>\n",
              "<style scoped>\n",
              "    .dataframe tbody tr th:only-of-type {\n",
              "        vertical-align: middle;\n",
              "    }\n",
              "\n",
              "    .dataframe tbody tr th {\n",
              "        vertical-align: top;\n",
              "    }\n",
              "\n",
              "    .dataframe thead th {\n",
              "        text-align: right;\n",
              "    }\n",
              "</style>\n",
              "<table border=\"1\" class=\"dataframe\">\n",
              "  <thead>\n",
              "    <tr style=\"text-align: right;\">\n",
              "      <th></th>\n",
              "      <th>proportion</th>\n",
              "    </tr>\n",
              "    <tr>\n",
              "      <th>relationship_with_head</th>\n",
              "      <th></th>\n",
              "    </tr>\n",
              "  </thead>\n",
              "  <tbody>\n",
              "    <tr>\n",
              "      <th>Head of Household</th>\n",
              "      <td>0.545443</td>\n",
              "    </tr>\n",
              "    <tr>\n",
              "      <th>Spouse</th>\n",
              "      <td>0.277164</td>\n",
              "    </tr>\n",
              "    <tr>\n",
              "      <th>Child</th>\n",
              "      <td>0.094754</td>\n",
              "    </tr>\n",
              "    <tr>\n",
              "      <th>Parent</th>\n",
              "      <td>0.046166</td>\n",
              "    </tr>\n",
              "    <tr>\n",
              "      <th>Other relative</th>\n",
              "      <td>0.028397</td>\n",
              "    </tr>\n",
              "    <tr>\n",
              "      <th>Other non-relatives</th>\n",
              "      <td>0.008077</td>\n",
              "    </tr>\n",
              "  </tbody>\n",
              "</table>\n",
              "</div><br><label><b>dtype:</b> float64</label>"
            ]
          },
          "metadata": {},
          "execution_count": 124
        }
      ]
    },
    {
      "cell_type": "code",
      "source": [
        "train_head_rel = train.groupby(\"relationship_with_head\")[\"bank_account\"].value_counts(normalize=True).reset_index(name=\"prob\").set_index(\"relationship_with_head\")"
      ],
      "metadata": {
        "id": "l_NY5RgaB1nb"
      },
      "execution_count": 125,
      "outputs": []
    },
    {
      "cell_type": "code",
      "source": [
        "train_head_rel"
      ],
      "metadata": {
        "id": "zBNFYmjlCJpX",
        "outputId": "9d64a0ab-6115-4311-bc55-aa7304849c8c",
        "colab": {
          "base_uri": "https://localhost:8080/",
          "height": 457
        }
      },
      "execution_count": 126,
      "outputs": [
        {
          "output_type": "execute_result",
          "data": {
            "text/plain": [
              "                       bank_account      prob\n",
              "relationship_with_head                       \n",
              "Child                            No  0.913414\n",
              "Child                           Yes  0.086586\n",
              "Head of Household                No  0.822851\n",
              "Head of Household               Yes  0.177149\n",
              "Other non-relatives              No  0.894737\n",
              "Other non-relatives             Yes  0.105263\n",
              "Other relative                   No  0.901198\n",
              "Other relative                  Yes  0.098802\n",
              "Parent                           No  0.940147\n",
              "Parent                          Yes  0.059853\n",
              "Spouse                           No  0.893405\n",
              "Spouse                          Yes  0.106595"
            ],
            "text/html": [
              "\n",
              "  <div id=\"df-6b00564e-7a79-40b4-b6d4-56715351de3b\" class=\"colab-df-container\">\n",
              "    <div>\n",
              "<style scoped>\n",
              "    .dataframe tbody tr th:only-of-type {\n",
              "        vertical-align: middle;\n",
              "    }\n",
              "\n",
              "    .dataframe tbody tr th {\n",
              "        vertical-align: top;\n",
              "    }\n",
              "\n",
              "    .dataframe thead th {\n",
              "        text-align: right;\n",
              "    }\n",
              "</style>\n",
              "<table border=\"1\" class=\"dataframe\">\n",
              "  <thead>\n",
              "    <tr style=\"text-align: right;\">\n",
              "      <th></th>\n",
              "      <th>bank_account</th>\n",
              "      <th>prob</th>\n",
              "    </tr>\n",
              "    <tr>\n",
              "      <th>relationship_with_head</th>\n",
              "      <th></th>\n",
              "      <th></th>\n",
              "    </tr>\n",
              "  </thead>\n",
              "  <tbody>\n",
              "    <tr>\n",
              "      <th>Child</th>\n",
              "      <td>No</td>\n",
              "      <td>0.913414</td>\n",
              "    </tr>\n",
              "    <tr>\n",
              "      <th>Child</th>\n",
              "      <td>Yes</td>\n",
              "      <td>0.086586</td>\n",
              "    </tr>\n",
              "    <tr>\n",
              "      <th>Head of Household</th>\n",
              "      <td>No</td>\n",
              "      <td>0.822851</td>\n",
              "    </tr>\n",
              "    <tr>\n",
              "      <th>Head of Household</th>\n",
              "      <td>Yes</td>\n",
              "      <td>0.177149</td>\n",
              "    </tr>\n",
              "    <tr>\n",
              "      <th>Other non-relatives</th>\n",
              "      <td>No</td>\n",
              "      <td>0.894737</td>\n",
              "    </tr>\n",
              "    <tr>\n",
              "      <th>Other non-relatives</th>\n",
              "      <td>Yes</td>\n",
              "      <td>0.105263</td>\n",
              "    </tr>\n",
              "    <tr>\n",
              "      <th>Other relative</th>\n",
              "      <td>No</td>\n",
              "      <td>0.901198</td>\n",
              "    </tr>\n",
              "    <tr>\n",
              "      <th>Other relative</th>\n",
              "      <td>Yes</td>\n",
              "      <td>0.098802</td>\n",
              "    </tr>\n",
              "    <tr>\n",
              "      <th>Parent</th>\n",
              "      <td>No</td>\n",
              "      <td>0.940147</td>\n",
              "    </tr>\n",
              "    <tr>\n",
              "      <th>Parent</th>\n",
              "      <td>Yes</td>\n",
              "      <td>0.059853</td>\n",
              "    </tr>\n",
              "    <tr>\n",
              "      <th>Spouse</th>\n",
              "      <td>No</td>\n",
              "      <td>0.893405</td>\n",
              "    </tr>\n",
              "    <tr>\n",
              "      <th>Spouse</th>\n",
              "      <td>Yes</td>\n",
              "      <td>0.106595</td>\n",
              "    </tr>\n",
              "  </tbody>\n",
              "</table>\n",
              "</div>\n",
              "    <div class=\"colab-df-buttons\">\n",
              "\n",
              "  <div class=\"colab-df-container\">\n",
              "    <button class=\"colab-df-convert\" onclick=\"convertToInteractive('df-6b00564e-7a79-40b4-b6d4-56715351de3b')\"\n",
              "            title=\"Convert this dataframe to an interactive table.\"\n",
              "            style=\"display:none;\">\n",
              "\n",
              "  <svg xmlns=\"http://www.w3.org/2000/svg\" height=\"24px\" viewBox=\"0 -960 960 960\">\n",
              "    <path d=\"M120-120v-720h720v720H120Zm60-500h600v-160H180v160Zm220 220h160v-160H400v160Zm0 220h160v-160H400v160ZM180-400h160v-160H180v160Zm440 0h160v-160H620v160ZM180-180h160v-160H180v160Zm440 0h160v-160H620v160Z\"/>\n",
              "  </svg>\n",
              "    </button>\n",
              "\n",
              "  <style>\n",
              "    .colab-df-container {\n",
              "      display:flex;\n",
              "      gap: 12px;\n",
              "    }\n",
              "\n",
              "    .colab-df-convert {\n",
              "      background-color: #E8F0FE;\n",
              "      border: none;\n",
              "      border-radius: 50%;\n",
              "      cursor: pointer;\n",
              "      display: none;\n",
              "      fill: #1967D2;\n",
              "      height: 32px;\n",
              "      padding: 0 0 0 0;\n",
              "      width: 32px;\n",
              "    }\n",
              "\n",
              "    .colab-df-convert:hover {\n",
              "      background-color: #E2EBFA;\n",
              "      box-shadow: 0px 1px 2px rgba(60, 64, 67, 0.3), 0px 1px 3px 1px rgba(60, 64, 67, 0.15);\n",
              "      fill: #174EA6;\n",
              "    }\n",
              "\n",
              "    .colab-df-buttons div {\n",
              "      margin-bottom: 4px;\n",
              "    }\n",
              "\n",
              "    [theme=dark] .colab-df-convert {\n",
              "      background-color: #3B4455;\n",
              "      fill: #D2E3FC;\n",
              "    }\n",
              "\n",
              "    [theme=dark] .colab-df-convert:hover {\n",
              "      background-color: #434B5C;\n",
              "      box-shadow: 0px 1px 3px 1px rgba(0, 0, 0, 0.15);\n",
              "      filter: drop-shadow(0px 1px 2px rgba(0, 0, 0, 0.3));\n",
              "      fill: #FFFFFF;\n",
              "    }\n",
              "  </style>\n",
              "\n",
              "    <script>\n",
              "      const buttonEl =\n",
              "        document.querySelector('#df-6b00564e-7a79-40b4-b6d4-56715351de3b button.colab-df-convert');\n",
              "      buttonEl.style.display =\n",
              "        google.colab.kernel.accessAllowed ? 'block' : 'none';\n",
              "\n",
              "      async function convertToInteractive(key) {\n",
              "        const element = document.querySelector('#df-6b00564e-7a79-40b4-b6d4-56715351de3b');\n",
              "        const dataTable =\n",
              "          await google.colab.kernel.invokeFunction('convertToInteractive',\n",
              "                                                    [key], {});\n",
              "        if (!dataTable) return;\n",
              "\n",
              "        const docLinkHtml = 'Like what you see? Visit the ' +\n",
              "          '<a target=\"_blank\" href=https://colab.research.google.com/notebooks/data_table.ipynb>data table notebook</a>'\n",
              "          + ' to learn more about interactive tables.';\n",
              "        element.innerHTML = '';\n",
              "        dataTable['output_type'] = 'display_data';\n",
              "        await google.colab.output.renderOutput(dataTable, element);\n",
              "        const docLink = document.createElement('div');\n",
              "        docLink.innerHTML = docLinkHtml;\n",
              "        element.appendChild(docLink);\n",
              "      }\n",
              "    </script>\n",
              "  </div>\n",
              "\n",
              "\n",
              "<div id=\"df-41a45758-a47e-4786-9ab1-45676dc290e5\">\n",
              "  <button class=\"colab-df-quickchart\" onclick=\"quickchart('df-41a45758-a47e-4786-9ab1-45676dc290e5')\"\n",
              "            title=\"Suggest charts\"\n",
              "            style=\"display:none;\">\n",
              "\n",
              "<svg xmlns=\"http://www.w3.org/2000/svg\" height=\"24px\"viewBox=\"0 0 24 24\"\n",
              "     width=\"24px\">\n",
              "    <g>\n",
              "        <path d=\"M19 3H5c-1.1 0-2 .9-2 2v14c0 1.1.9 2 2 2h14c1.1 0 2-.9 2-2V5c0-1.1-.9-2-2-2zM9 17H7v-7h2v7zm4 0h-2V7h2v10zm4 0h-2v-4h2v4z\"/>\n",
              "    </g>\n",
              "</svg>\n",
              "  </button>\n",
              "\n",
              "<style>\n",
              "  .colab-df-quickchart {\n",
              "      --bg-color: #E8F0FE;\n",
              "      --fill-color: #1967D2;\n",
              "      --hover-bg-color: #E2EBFA;\n",
              "      --hover-fill-color: #174EA6;\n",
              "      --disabled-fill-color: #AAA;\n",
              "      --disabled-bg-color: #DDD;\n",
              "  }\n",
              "\n",
              "  [theme=dark] .colab-df-quickchart {\n",
              "      --bg-color: #3B4455;\n",
              "      --fill-color: #D2E3FC;\n",
              "      --hover-bg-color: #434B5C;\n",
              "      --hover-fill-color: #FFFFFF;\n",
              "      --disabled-bg-color: #3B4455;\n",
              "      --disabled-fill-color: #666;\n",
              "  }\n",
              "\n",
              "  .colab-df-quickchart {\n",
              "    background-color: var(--bg-color);\n",
              "    border: none;\n",
              "    border-radius: 50%;\n",
              "    cursor: pointer;\n",
              "    display: none;\n",
              "    fill: var(--fill-color);\n",
              "    height: 32px;\n",
              "    padding: 0;\n",
              "    width: 32px;\n",
              "  }\n",
              "\n",
              "  .colab-df-quickchart:hover {\n",
              "    background-color: var(--hover-bg-color);\n",
              "    box-shadow: 0 1px 2px rgba(60, 64, 67, 0.3), 0 1px 3px 1px rgba(60, 64, 67, 0.15);\n",
              "    fill: var(--button-hover-fill-color);\n",
              "  }\n",
              "\n",
              "  .colab-df-quickchart-complete:disabled,\n",
              "  .colab-df-quickchart-complete:disabled:hover {\n",
              "    background-color: var(--disabled-bg-color);\n",
              "    fill: var(--disabled-fill-color);\n",
              "    box-shadow: none;\n",
              "  }\n",
              "\n",
              "  .colab-df-spinner {\n",
              "    border: 2px solid var(--fill-color);\n",
              "    border-color: transparent;\n",
              "    border-bottom-color: var(--fill-color);\n",
              "    animation:\n",
              "      spin 1s steps(1) infinite;\n",
              "  }\n",
              "\n",
              "  @keyframes spin {\n",
              "    0% {\n",
              "      border-color: transparent;\n",
              "      border-bottom-color: var(--fill-color);\n",
              "      border-left-color: var(--fill-color);\n",
              "    }\n",
              "    20% {\n",
              "      border-color: transparent;\n",
              "      border-left-color: var(--fill-color);\n",
              "      border-top-color: var(--fill-color);\n",
              "    }\n",
              "    30% {\n",
              "      border-color: transparent;\n",
              "      border-left-color: var(--fill-color);\n",
              "      border-top-color: var(--fill-color);\n",
              "      border-right-color: var(--fill-color);\n",
              "    }\n",
              "    40% {\n",
              "      border-color: transparent;\n",
              "      border-right-color: var(--fill-color);\n",
              "      border-top-color: var(--fill-color);\n",
              "    }\n",
              "    60% {\n",
              "      border-color: transparent;\n",
              "      border-right-color: var(--fill-color);\n",
              "    }\n",
              "    80% {\n",
              "      border-color: transparent;\n",
              "      border-right-color: var(--fill-color);\n",
              "      border-bottom-color: var(--fill-color);\n",
              "    }\n",
              "    90% {\n",
              "      border-color: transparent;\n",
              "      border-bottom-color: var(--fill-color);\n",
              "    }\n",
              "  }\n",
              "</style>\n",
              "\n",
              "  <script>\n",
              "    async function quickchart(key) {\n",
              "      const quickchartButtonEl =\n",
              "        document.querySelector('#' + key + ' button');\n",
              "      quickchartButtonEl.disabled = true;  // To prevent multiple clicks.\n",
              "      quickchartButtonEl.classList.add('colab-df-spinner');\n",
              "      try {\n",
              "        const charts = await google.colab.kernel.invokeFunction(\n",
              "            'suggestCharts', [key], {});\n",
              "      } catch (error) {\n",
              "        console.error('Error during call to suggestCharts:', error);\n",
              "      }\n",
              "      quickchartButtonEl.classList.remove('colab-df-spinner');\n",
              "      quickchartButtonEl.classList.add('colab-df-quickchart-complete');\n",
              "    }\n",
              "    (() => {\n",
              "      let quickchartButtonEl =\n",
              "        document.querySelector('#df-41a45758-a47e-4786-9ab1-45676dc290e5 button');\n",
              "      quickchartButtonEl.style.display =\n",
              "        google.colab.kernel.accessAllowed ? 'block' : 'none';\n",
              "    })();\n",
              "  </script>\n",
              "</div>\n",
              "\n",
              "  <div id=\"id_914bab94-413b-4480-a432-a882d1207c2c\">\n",
              "    <style>\n",
              "      .colab-df-generate {\n",
              "        background-color: #E8F0FE;\n",
              "        border: none;\n",
              "        border-radius: 50%;\n",
              "        cursor: pointer;\n",
              "        display: none;\n",
              "        fill: #1967D2;\n",
              "        height: 32px;\n",
              "        padding: 0 0 0 0;\n",
              "        width: 32px;\n",
              "      }\n",
              "\n",
              "      .colab-df-generate:hover {\n",
              "        background-color: #E2EBFA;\n",
              "        box-shadow: 0px 1px 2px rgba(60, 64, 67, 0.3), 0px 1px 3px 1px rgba(60, 64, 67, 0.15);\n",
              "        fill: #174EA6;\n",
              "      }\n",
              "\n",
              "      [theme=dark] .colab-df-generate {\n",
              "        background-color: #3B4455;\n",
              "        fill: #D2E3FC;\n",
              "      }\n",
              "\n",
              "      [theme=dark] .colab-df-generate:hover {\n",
              "        background-color: #434B5C;\n",
              "        box-shadow: 0px 1px 3px 1px rgba(0, 0, 0, 0.15);\n",
              "        filter: drop-shadow(0px 1px 2px rgba(0, 0, 0, 0.3));\n",
              "        fill: #FFFFFF;\n",
              "      }\n",
              "    </style>\n",
              "    <button class=\"colab-df-generate\" onclick=\"generateWithVariable('train_head_rel')\"\n",
              "            title=\"Generate code using this dataframe.\"\n",
              "            style=\"display:none;\">\n",
              "\n",
              "  <svg xmlns=\"http://www.w3.org/2000/svg\" height=\"24px\"viewBox=\"0 0 24 24\"\n",
              "       width=\"24px\">\n",
              "    <path d=\"M7,19H8.4L18.45,9,17,7.55,7,17.6ZM5,21V16.75L18.45,3.32a2,2,0,0,1,2.83,0l1.4,1.43a1.91,1.91,0,0,1,.58,1.4,1.91,1.91,0,0,1-.58,1.4L9.25,21ZM18.45,9,17,7.55Zm-12,3A5.31,5.31,0,0,0,4.9,8.1,5.31,5.31,0,0,0,1,6.5,5.31,5.31,0,0,0,4.9,4.9,5.31,5.31,0,0,0,6.5,1,5.31,5.31,0,0,0,8.1,4.9,5.31,5.31,0,0,0,12,6.5,5.46,5.46,0,0,0,6.5,12Z\"/>\n",
              "  </svg>\n",
              "    </button>\n",
              "    <script>\n",
              "      (() => {\n",
              "      const buttonEl =\n",
              "        document.querySelector('#id_914bab94-413b-4480-a432-a882d1207c2c button.colab-df-generate');\n",
              "      buttonEl.style.display =\n",
              "        google.colab.kernel.accessAllowed ? 'block' : 'none';\n",
              "\n",
              "      buttonEl.onclick = () => {\n",
              "        google.colab.notebook.generateWithVariable('train_head_rel');\n",
              "      }\n",
              "      })();\n",
              "    </script>\n",
              "  </div>\n",
              "\n",
              "    </div>\n",
              "  </div>\n"
            ],
            "application/vnd.google.colaboratory.intrinsic+json": {
              "type": "dataframe",
              "variable_name": "train_head_rel",
              "summary": "{\n  \"name\": \"train_head_rel\",\n  \"rows\": 12,\n  \"fields\": [\n    {\n      \"column\": \"relationship_with_head\",\n      \"properties\": {\n        \"dtype\": \"string\",\n        \"num_unique_values\": 6,\n        \"samples\": [\n          \"Child\",\n          \"Head of Household\",\n          \"Spouse\"\n        ],\n        \"semantic_type\": \"\",\n        \"description\": \"\"\n      }\n    },\n    {\n      \"column\": \"bank_account\",\n      \"properties\": {\n        \"dtype\": \"category\",\n        \"num_unique_values\": 2,\n        \"samples\": [\n          \"Yes\",\n          \"No\"\n        ],\n        \"semantic_type\": \"\",\n        \"description\": \"\"\n      }\n    },\n    {\n      \"column\": \"prob\",\n      \"properties\": {\n        \"dtype\": \"number\",\n        \"std\": 0.4135033697014605,\n        \"min\": 0.05985267034990792,\n        \"max\": 0.9401473296500921,\n        \"num_unique_values\": 12,\n        \"samples\": [\n          0.8934049079754601,\n          0.05985267034990792\n        ],\n        \"semantic_type\": \"\",\n        \"description\": \"\"\n      }\n    }\n  ]\n}"
            }
          },
          "metadata": {},
          "execution_count": 126
        }
      ]
    },
    {
      "cell_type": "code",
      "source": [
        "train_head_rel[train_head_rel[\"bank_account\"] == \"Yes\"]"
      ],
      "metadata": {
        "id": "VyoAZoeSCLi4",
        "outputId": "a6430e34-feeb-4a4b-d8be-e114de225d49",
        "colab": {
          "base_uri": "https://localhost:8080/",
          "height": 269
        }
      },
      "execution_count": 127,
      "outputs": [
        {
          "output_type": "execute_result",
          "data": {
            "text/plain": [
              "                       bank_account      prob\n",
              "relationship_with_head                       \n",
              "Child                           Yes  0.086586\n",
              "Head of Household               Yes  0.177149\n",
              "Other non-relatives             Yes  0.105263\n",
              "Other relative                  Yes  0.098802\n",
              "Parent                          Yes  0.059853\n",
              "Spouse                          Yes  0.106595"
            ],
            "text/html": [
              "\n",
              "  <div id=\"df-6c7df721-099a-4030-979c-7a4dfbd39f5c\" class=\"colab-df-container\">\n",
              "    <div>\n",
              "<style scoped>\n",
              "    .dataframe tbody tr th:only-of-type {\n",
              "        vertical-align: middle;\n",
              "    }\n",
              "\n",
              "    .dataframe tbody tr th {\n",
              "        vertical-align: top;\n",
              "    }\n",
              "\n",
              "    .dataframe thead th {\n",
              "        text-align: right;\n",
              "    }\n",
              "</style>\n",
              "<table border=\"1\" class=\"dataframe\">\n",
              "  <thead>\n",
              "    <tr style=\"text-align: right;\">\n",
              "      <th></th>\n",
              "      <th>bank_account</th>\n",
              "      <th>prob</th>\n",
              "    </tr>\n",
              "    <tr>\n",
              "      <th>relationship_with_head</th>\n",
              "      <th></th>\n",
              "      <th></th>\n",
              "    </tr>\n",
              "  </thead>\n",
              "  <tbody>\n",
              "    <tr>\n",
              "      <th>Child</th>\n",
              "      <td>Yes</td>\n",
              "      <td>0.086586</td>\n",
              "    </tr>\n",
              "    <tr>\n",
              "      <th>Head of Household</th>\n",
              "      <td>Yes</td>\n",
              "      <td>0.177149</td>\n",
              "    </tr>\n",
              "    <tr>\n",
              "      <th>Other non-relatives</th>\n",
              "      <td>Yes</td>\n",
              "      <td>0.105263</td>\n",
              "    </tr>\n",
              "    <tr>\n",
              "      <th>Other relative</th>\n",
              "      <td>Yes</td>\n",
              "      <td>0.098802</td>\n",
              "    </tr>\n",
              "    <tr>\n",
              "      <th>Parent</th>\n",
              "      <td>Yes</td>\n",
              "      <td>0.059853</td>\n",
              "    </tr>\n",
              "    <tr>\n",
              "      <th>Spouse</th>\n",
              "      <td>Yes</td>\n",
              "      <td>0.106595</td>\n",
              "    </tr>\n",
              "  </tbody>\n",
              "</table>\n",
              "</div>\n",
              "    <div class=\"colab-df-buttons\">\n",
              "\n",
              "  <div class=\"colab-df-container\">\n",
              "    <button class=\"colab-df-convert\" onclick=\"convertToInteractive('df-6c7df721-099a-4030-979c-7a4dfbd39f5c')\"\n",
              "            title=\"Convert this dataframe to an interactive table.\"\n",
              "            style=\"display:none;\">\n",
              "\n",
              "  <svg xmlns=\"http://www.w3.org/2000/svg\" height=\"24px\" viewBox=\"0 -960 960 960\">\n",
              "    <path d=\"M120-120v-720h720v720H120Zm60-500h600v-160H180v160Zm220 220h160v-160H400v160Zm0 220h160v-160H400v160ZM180-400h160v-160H180v160Zm440 0h160v-160H620v160ZM180-180h160v-160H180v160Zm440 0h160v-160H620v160Z\"/>\n",
              "  </svg>\n",
              "    </button>\n",
              "\n",
              "  <style>\n",
              "    .colab-df-container {\n",
              "      display:flex;\n",
              "      gap: 12px;\n",
              "    }\n",
              "\n",
              "    .colab-df-convert {\n",
              "      background-color: #E8F0FE;\n",
              "      border: none;\n",
              "      border-radius: 50%;\n",
              "      cursor: pointer;\n",
              "      display: none;\n",
              "      fill: #1967D2;\n",
              "      height: 32px;\n",
              "      padding: 0 0 0 0;\n",
              "      width: 32px;\n",
              "    }\n",
              "\n",
              "    .colab-df-convert:hover {\n",
              "      background-color: #E2EBFA;\n",
              "      box-shadow: 0px 1px 2px rgba(60, 64, 67, 0.3), 0px 1px 3px 1px rgba(60, 64, 67, 0.15);\n",
              "      fill: #174EA6;\n",
              "    }\n",
              "\n",
              "    .colab-df-buttons div {\n",
              "      margin-bottom: 4px;\n",
              "    }\n",
              "\n",
              "    [theme=dark] .colab-df-convert {\n",
              "      background-color: #3B4455;\n",
              "      fill: #D2E3FC;\n",
              "    }\n",
              "\n",
              "    [theme=dark] .colab-df-convert:hover {\n",
              "      background-color: #434B5C;\n",
              "      box-shadow: 0px 1px 3px 1px rgba(0, 0, 0, 0.15);\n",
              "      filter: drop-shadow(0px 1px 2px rgba(0, 0, 0, 0.3));\n",
              "      fill: #FFFFFF;\n",
              "    }\n",
              "  </style>\n",
              "\n",
              "    <script>\n",
              "      const buttonEl =\n",
              "        document.querySelector('#df-6c7df721-099a-4030-979c-7a4dfbd39f5c button.colab-df-convert');\n",
              "      buttonEl.style.display =\n",
              "        google.colab.kernel.accessAllowed ? 'block' : 'none';\n",
              "\n",
              "      async function convertToInteractive(key) {\n",
              "        const element = document.querySelector('#df-6c7df721-099a-4030-979c-7a4dfbd39f5c');\n",
              "        const dataTable =\n",
              "          await google.colab.kernel.invokeFunction('convertToInteractive',\n",
              "                                                    [key], {});\n",
              "        if (!dataTable) return;\n",
              "\n",
              "        const docLinkHtml = 'Like what you see? Visit the ' +\n",
              "          '<a target=\"_blank\" href=https://colab.research.google.com/notebooks/data_table.ipynb>data table notebook</a>'\n",
              "          + ' to learn more about interactive tables.';\n",
              "        element.innerHTML = '';\n",
              "        dataTable['output_type'] = 'display_data';\n",
              "        await google.colab.output.renderOutput(dataTable, element);\n",
              "        const docLink = document.createElement('div');\n",
              "        docLink.innerHTML = docLinkHtml;\n",
              "        element.appendChild(docLink);\n",
              "      }\n",
              "    </script>\n",
              "  </div>\n",
              "\n",
              "\n",
              "<div id=\"df-0359f2d8-b10c-40c5-abe2-9da2ba7ee608\">\n",
              "  <button class=\"colab-df-quickchart\" onclick=\"quickchart('df-0359f2d8-b10c-40c5-abe2-9da2ba7ee608')\"\n",
              "            title=\"Suggest charts\"\n",
              "            style=\"display:none;\">\n",
              "\n",
              "<svg xmlns=\"http://www.w3.org/2000/svg\" height=\"24px\"viewBox=\"0 0 24 24\"\n",
              "     width=\"24px\">\n",
              "    <g>\n",
              "        <path d=\"M19 3H5c-1.1 0-2 .9-2 2v14c0 1.1.9 2 2 2h14c1.1 0 2-.9 2-2V5c0-1.1-.9-2-2-2zM9 17H7v-7h2v7zm4 0h-2V7h2v10zm4 0h-2v-4h2v4z\"/>\n",
              "    </g>\n",
              "</svg>\n",
              "  </button>\n",
              "\n",
              "<style>\n",
              "  .colab-df-quickchart {\n",
              "      --bg-color: #E8F0FE;\n",
              "      --fill-color: #1967D2;\n",
              "      --hover-bg-color: #E2EBFA;\n",
              "      --hover-fill-color: #174EA6;\n",
              "      --disabled-fill-color: #AAA;\n",
              "      --disabled-bg-color: #DDD;\n",
              "  }\n",
              "\n",
              "  [theme=dark] .colab-df-quickchart {\n",
              "      --bg-color: #3B4455;\n",
              "      --fill-color: #D2E3FC;\n",
              "      --hover-bg-color: #434B5C;\n",
              "      --hover-fill-color: #FFFFFF;\n",
              "      --disabled-bg-color: #3B4455;\n",
              "      --disabled-fill-color: #666;\n",
              "  }\n",
              "\n",
              "  .colab-df-quickchart {\n",
              "    background-color: var(--bg-color);\n",
              "    border: none;\n",
              "    border-radius: 50%;\n",
              "    cursor: pointer;\n",
              "    display: none;\n",
              "    fill: var(--fill-color);\n",
              "    height: 32px;\n",
              "    padding: 0;\n",
              "    width: 32px;\n",
              "  }\n",
              "\n",
              "  .colab-df-quickchart:hover {\n",
              "    background-color: var(--hover-bg-color);\n",
              "    box-shadow: 0 1px 2px rgba(60, 64, 67, 0.3), 0 1px 3px 1px rgba(60, 64, 67, 0.15);\n",
              "    fill: var(--button-hover-fill-color);\n",
              "  }\n",
              "\n",
              "  .colab-df-quickchart-complete:disabled,\n",
              "  .colab-df-quickchart-complete:disabled:hover {\n",
              "    background-color: var(--disabled-bg-color);\n",
              "    fill: var(--disabled-fill-color);\n",
              "    box-shadow: none;\n",
              "  }\n",
              "\n",
              "  .colab-df-spinner {\n",
              "    border: 2px solid var(--fill-color);\n",
              "    border-color: transparent;\n",
              "    border-bottom-color: var(--fill-color);\n",
              "    animation:\n",
              "      spin 1s steps(1) infinite;\n",
              "  }\n",
              "\n",
              "  @keyframes spin {\n",
              "    0% {\n",
              "      border-color: transparent;\n",
              "      border-bottom-color: var(--fill-color);\n",
              "      border-left-color: var(--fill-color);\n",
              "    }\n",
              "    20% {\n",
              "      border-color: transparent;\n",
              "      border-left-color: var(--fill-color);\n",
              "      border-top-color: var(--fill-color);\n",
              "    }\n",
              "    30% {\n",
              "      border-color: transparent;\n",
              "      border-left-color: var(--fill-color);\n",
              "      border-top-color: var(--fill-color);\n",
              "      border-right-color: var(--fill-color);\n",
              "    }\n",
              "    40% {\n",
              "      border-color: transparent;\n",
              "      border-right-color: var(--fill-color);\n",
              "      border-top-color: var(--fill-color);\n",
              "    }\n",
              "    60% {\n",
              "      border-color: transparent;\n",
              "      border-right-color: var(--fill-color);\n",
              "    }\n",
              "    80% {\n",
              "      border-color: transparent;\n",
              "      border-right-color: var(--fill-color);\n",
              "      border-bottom-color: var(--fill-color);\n",
              "    }\n",
              "    90% {\n",
              "      border-color: transparent;\n",
              "      border-bottom-color: var(--fill-color);\n",
              "    }\n",
              "  }\n",
              "</style>\n",
              "\n",
              "  <script>\n",
              "    async function quickchart(key) {\n",
              "      const quickchartButtonEl =\n",
              "        document.querySelector('#' + key + ' button');\n",
              "      quickchartButtonEl.disabled = true;  // To prevent multiple clicks.\n",
              "      quickchartButtonEl.classList.add('colab-df-spinner');\n",
              "      try {\n",
              "        const charts = await google.colab.kernel.invokeFunction(\n",
              "            'suggestCharts', [key], {});\n",
              "      } catch (error) {\n",
              "        console.error('Error during call to suggestCharts:', error);\n",
              "      }\n",
              "      quickchartButtonEl.classList.remove('colab-df-spinner');\n",
              "      quickchartButtonEl.classList.add('colab-df-quickchart-complete');\n",
              "    }\n",
              "    (() => {\n",
              "      let quickchartButtonEl =\n",
              "        document.querySelector('#df-0359f2d8-b10c-40c5-abe2-9da2ba7ee608 button');\n",
              "      quickchartButtonEl.style.display =\n",
              "        google.colab.kernel.accessAllowed ? 'block' : 'none';\n",
              "    })();\n",
              "  </script>\n",
              "</div>\n",
              "\n",
              "    </div>\n",
              "  </div>\n"
            ],
            "application/vnd.google.colaboratory.intrinsic+json": {
              "type": "dataframe",
              "summary": "{\n  \"name\": \"train_head_rel[train_head_rel[\\\"bank_account\\\"] == \\\"Yes\\\"]\",\n  \"rows\": 6,\n  \"fields\": [\n    {\n      \"column\": \"relationship_with_head\",\n      \"properties\": {\n        \"dtype\": \"string\",\n        \"num_unique_values\": 6,\n        \"samples\": [\n          \"Child\",\n          \"Head of Household\",\n          \"Spouse\"\n        ],\n        \"semantic_type\": \"\",\n        \"description\": \"\"\n      }\n    },\n    {\n      \"column\": \"bank_account\",\n      \"properties\": {\n        \"dtype\": \"category\",\n        \"num_unique_values\": 1,\n        \"samples\": [\n          \"Yes\"\n        ],\n        \"semantic_type\": \"\",\n        \"description\": \"\"\n      }\n    },\n    {\n      \"column\": \"prob\",\n      \"properties\": {\n        \"dtype\": \"number\",\n        \"std\": 0.03904066417568508,\n        \"min\": 0.05985267034990792,\n        \"max\": 0.17714909204270907,\n        \"num_unique_values\": 6,\n        \"samples\": [\n          0.08658591296545536\n        ],\n        \"semantic_type\": \"\",\n        \"description\": \"\"\n      }\n    }\n  ]\n}"
            }
          },
          "metadata": {},
          "execution_count": 127
        }
      ]
    },
    {
      "cell_type": "code",
      "source": [
        "train_head_rel[train_head_rel[\"bank_account\"] == \"No\"]"
      ],
      "metadata": {
        "id": "qFV0JBBGCYQY",
        "outputId": "0c1f9855-a3ce-4c69-9c35-ca4a2c5453bc",
        "colab": {
          "base_uri": "https://localhost:8080/",
          "height": 269
        }
      },
      "execution_count": 128,
      "outputs": [
        {
          "output_type": "execute_result",
          "data": {
            "text/plain": [
              "                       bank_account      prob\n",
              "relationship_with_head                       \n",
              "Child                            No  0.913414\n",
              "Head of Household                No  0.822851\n",
              "Other non-relatives              No  0.894737\n",
              "Other relative                   No  0.901198\n",
              "Parent                           No  0.940147\n",
              "Spouse                           No  0.893405"
            ],
            "text/html": [
              "\n",
              "  <div id=\"df-4dc3859c-bcbc-43a3-b9b9-2487d919759f\" class=\"colab-df-container\">\n",
              "    <div>\n",
              "<style scoped>\n",
              "    .dataframe tbody tr th:only-of-type {\n",
              "        vertical-align: middle;\n",
              "    }\n",
              "\n",
              "    .dataframe tbody tr th {\n",
              "        vertical-align: top;\n",
              "    }\n",
              "\n",
              "    .dataframe thead th {\n",
              "        text-align: right;\n",
              "    }\n",
              "</style>\n",
              "<table border=\"1\" class=\"dataframe\">\n",
              "  <thead>\n",
              "    <tr style=\"text-align: right;\">\n",
              "      <th></th>\n",
              "      <th>bank_account</th>\n",
              "      <th>prob</th>\n",
              "    </tr>\n",
              "    <tr>\n",
              "      <th>relationship_with_head</th>\n",
              "      <th></th>\n",
              "      <th></th>\n",
              "    </tr>\n",
              "  </thead>\n",
              "  <tbody>\n",
              "    <tr>\n",
              "      <th>Child</th>\n",
              "      <td>No</td>\n",
              "      <td>0.913414</td>\n",
              "    </tr>\n",
              "    <tr>\n",
              "      <th>Head of Household</th>\n",
              "      <td>No</td>\n",
              "      <td>0.822851</td>\n",
              "    </tr>\n",
              "    <tr>\n",
              "      <th>Other non-relatives</th>\n",
              "      <td>No</td>\n",
              "      <td>0.894737</td>\n",
              "    </tr>\n",
              "    <tr>\n",
              "      <th>Other relative</th>\n",
              "      <td>No</td>\n",
              "      <td>0.901198</td>\n",
              "    </tr>\n",
              "    <tr>\n",
              "      <th>Parent</th>\n",
              "      <td>No</td>\n",
              "      <td>0.940147</td>\n",
              "    </tr>\n",
              "    <tr>\n",
              "      <th>Spouse</th>\n",
              "      <td>No</td>\n",
              "      <td>0.893405</td>\n",
              "    </tr>\n",
              "  </tbody>\n",
              "</table>\n",
              "</div>\n",
              "    <div class=\"colab-df-buttons\">\n",
              "\n",
              "  <div class=\"colab-df-container\">\n",
              "    <button class=\"colab-df-convert\" onclick=\"convertToInteractive('df-4dc3859c-bcbc-43a3-b9b9-2487d919759f')\"\n",
              "            title=\"Convert this dataframe to an interactive table.\"\n",
              "            style=\"display:none;\">\n",
              "\n",
              "  <svg xmlns=\"http://www.w3.org/2000/svg\" height=\"24px\" viewBox=\"0 -960 960 960\">\n",
              "    <path d=\"M120-120v-720h720v720H120Zm60-500h600v-160H180v160Zm220 220h160v-160H400v160Zm0 220h160v-160H400v160ZM180-400h160v-160H180v160Zm440 0h160v-160H620v160ZM180-180h160v-160H180v160Zm440 0h160v-160H620v160Z\"/>\n",
              "  </svg>\n",
              "    </button>\n",
              "\n",
              "  <style>\n",
              "    .colab-df-container {\n",
              "      display:flex;\n",
              "      gap: 12px;\n",
              "    }\n",
              "\n",
              "    .colab-df-convert {\n",
              "      background-color: #E8F0FE;\n",
              "      border: none;\n",
              "      border-radius: 50%;\n",
              "      cursor: pointer;\n",
              "      display: none;\n",
              "      fill: #1967D2;\n",
              "      height: 32px;\n",
              "      padding: 0 0 0 0;\n",
              "      width: 32px;\n",
              "    }\n",
              "\n",
              "    .colab-df-convert:hover {\n",
              "      background-color: #E2EBFA;\n",
              "      box-shadow: 0px 1px 2px rgba(60, 64, 67, 0.3), 0px 1px 3px 1px rgba(60, 64, 67, 0.15);\n",
              "      fill: #174EA6;\n",
              "    }\n",
              "\n",
              "    .colab-df-buttons div {\n",
              "      margin-bottom: 4px;\n",
              "    }\n",
              "\n",
              "    [theme=dark] .colab-df-convert {\n",
              "      background-color: #3B4455;\n",
              "      fill: #D2E3FC;\n",
              "    }\n",
              "\n",
              "    [theme=dark] .colab-df-convert:hover {\n",
              "      background-color: #434B5C;\n",
              "      box-shadow: 0px 1px 3px 1px rgba(0, 0, 0, 0.15);\n",
              "      filter: drop-shadow(0px 1px 2px rgba(0, 0, 0, 0.3));\n",
              "      fill: #FFFFFF;\n",
              "    }\n",
              "  </style>\n",
              "\n",
              "    <script>\n",
              "      const buttonEl =\n",
              "        document.querySelector('#df-4dc3859c-bcbc-43a3-b9b9-2487d919759f button.colab-df-convert');\n",
              "      buttonEl.style.display =\n",
              "        google.colab.kernel.accessAllowed ? 'block' : 'none';\n",
              "\n",
              "      async function convertToInteractive(key) {\n",
              "        const element = document.querySelector('#df-4dc3859c-bcbc-43a3-b9b9-2487d919759f');\n",
              "        const dataTable =\n",
              "          await google.colab.kernel.invokeFunction('convertToInteractive',\n",
              "                                                    [key], {});\n",
              "        if (!dataTable) return;\n",
              "\n",
              "        const docLinkHtml = 'Like what you see? Visit the ' +\n",
              "          '<a target=\"_blank\" href=https://colab.research.google.com/notebooks/data_table.ipynb>data table notebook</a>'\n",
              "          + ' to learn more about interactive tables.';\n",
              "        element.innerHTML = '';\n",
              "        dataTable['output_type'] = 'display_data';\n",
              "        await google.colab.output.renderOutput(dataTable, element);\n",
              "        const docLink = document.createElement('div');\n",
              "        docLink.innerHTML = docLinkHtml;\n",
              "        element.appendChild(docLink);\n",
              "      }\n",
              "    </script>\n",
              "  </div>\n",
              "\n",
              "\n",
              "<div id=\"df-ba7fde6a-377e-4165-b4b4-d08c6ca76893\">\n",
              "  <button class=\"colab-df-quickchart\" onclick=\"quickchart('df-ba7fde6a-377e-4165-b4b4-d08c6ca76893')\"\n",
              "            title=\"Suggest charts\"\n",
              "            style=\"display:none;\">\n",
              "\n",
              "<svg xmlns=\"http://www.w3.org/2000/svg\" height=\"24px\"viewBox=\"0 0 24 24\"\n",
              "     width=\"24px\">\n",
              "    <g>\n",
              "        <path d=\"M19 3H5c-1.1 0-2 .9-2 2v14c0 1.1.9 2 2 2h14c1.1 0 2-.9 2-2V5c0-1.1-.9-2-2-2zM9 17H7v-7h2v7zm4 0h-2V7h2v10zm4 0h-2v-4h2v4z\"/>\n",
              "    </g>\n",
              "</svg>\n",
              "  </button>\n",
              "\n",
              "<style>\n",
              "  .colab-df-quickchart {\n",
              "      --bg-color: #E8F0FE;\n",
              "      --fill-color: #1967D2;\n",
              "      --hover-bg-color: #E2EBFA;\n",
              "      --hover-fill-color: #174EA6;\n",
              "      --disabled-fill-color: #AAA;\n",
              "      --disabled-bg-color: #DDD;\n",
              "  }\n",
              "\n",
              "  [theme=dark] .colab-df-quickchart {\n",
              "      --bg-color: #3B4455;\n",
              "      --fill-color: #D2E3FC;\n",
              "      --hover-bg-color: #434B5C;\n",
              "      --hover-fill-color: #FFFFFF;\n",
              "      --disabled-bg-color: #3B4455;\n",
              "      --disabled-fill-color: #666;\n",
              "  }\n",
              "\n",
              "  .colab-df-quickchart {\n",
              "    background-color: var(--bg-color);\n",
              "    border: none;\n",
              "    border-radius: 50%;\n",
              "    cursor: pointer;\n",
              "    display: none;\n",
              "    fill: var(--fill-color);\n",
              "    height: 32px;\n",
              "    padding: 0;\n",
              "    width: 32px;\n",
              "  }\n",
              "\n",
              "  .colab-df-quickchart:hover {\n",
              "    background-color: var(--hover-bg-color);\n",
              "    box-shadow: 0 1px 2px rgba(60, 64, 67, 0.3), 0 1px 3px 1px rgba(60, 64, 67, 0.15);\n",
              "    fill: var(--button-hover-fill-color);\n",
              "  }\n",
              "\n",
              "  .colab-df-quickchart-complete:disabled,\n",
              "  .colab-df-quickchart-complete:disabled:hover {\n",
              "    background-color: var(--disabled-bg-color);\n",
              "    fill: var(--disabled-fill-color);\n",
              "    box-shadow: none;\n",
              "  }\n",
              "\n",
              "  .colab-df-spinner {\n",
              "    border: 2px solid var(--fill-color);\n",
              "    border-color: transparent;\n",
              "    border-bottom-color: var(--fill-color);\n",
              "    animation:\n",
              "      spin 1s steps(1) infinite;\n",
              "  }\n",
              "\n",
              "  @keyframes spin {\n",
              "    0% {\n",
              "      border-color: transparent;\n",
              "      border-bottom-color: var(--fill-color);\n",
              "      border-left-color: var(--fill-color);\n",
              "    }\n",
              "    20% {\n",
              "      border-color: transparent;\n",
              "      border-left-color: var(--fill-color);\n",
              "      border-top-color: var(--fill-color);\n",
              "    }\n",
              "    30% {\n",
              "      border-color: transparent;\n",
              "      border-left-color: var(--fill-color);\n",
              "      border-top-color: var(--fill-color);\n",
              "      border-right-color: var(--fill-color);\n",
              "    }\n",
              "    40% {\n",
              "      border-color: transparent;\n",
              "      border-right-color: var(--fill-color);\n",
              "      border-top-color: var(--fill-color);\n",
              "    }\n",
              "    60% {\n",
              "      border-color: transparent;\n",
              "      border-right-color: var(--fill-color);\n",
              "    }\n",
              "    80% {\n",
              "      border-color: transparent;\n",
              "      border-right-color: var(--fill-color);\n",
              "      border-bottom-color: var(--fill-color);\n",
              "    }\n",
              "    90% {\n",
              "      border-color: transparent;\n",
              "      border-bottom-color: var(--fill-color);\n",
              "    }\n",
              "  }\n",
              "</style>\n",
              "\n",
              "  <script>\n",
              "    async function quickchart(key) {\n",
              "      const quickchartButtonEl =\n",
              "        document.querySelector('#' + key + ' button');\n",
              "      quickchartButtonEl.disabled = true;  // To prevent multiple clicks.\n",
              "      quickchartButtonEl.classList.add('colab-df-spinner');\n",
              "      try {\n",
              "        const charts = await google.colab.kernel.invokeFunction(\n",
              "            'suggestCharts', [key], {});\n",
              "      } catch (error) {\n",
              "        console.error('Error during call to suggestCharts:', error);\n",
              "      }\n",
              "      quickchartButtonEl.classList.remove('colab-df-spinner');\n",
              "      quickchartButtonEl.classList.add('colab-df-quickchart-complete');\n",
              "    }\n",
              "    (() => {\n",
              "      let quickchartButtonEl =\n",
              "        document.querySelector('#df-ba7fde6a-377e-4165-b4b4-d08c6ca76893 button');\n",
              "      quickchartButtonEl.style.display =\n",
              "        google.colab.kernel.accessAllowed ? 'block' : 'none';\n",
              "    })();\n",
              "  </script>\n",
              "</div>\n",
              "\n",
              "    </div>\n",
              "  </div>\n"
            ],
            "application/vnd.google.colaboratory.intrinsic+json": {
              "type": "dataframe",
              "summary": "{\n  \"name\": \"train_head_rel[train_head_rel[\\\"bank_account\\\"] == \\\"No\\\"]\",\n  \"rows\": 6,\n  \"fields\": [\n    {\n      \"column\": \"relationship_with_head\",\n      \"properties\": {\n        \"dtype\": \"string\",\n        \"num_unique_values\": 6,\n        \"samples\": [\n          \"Child\",\n          \"Head of Household\",\n          \"Spouse\"\n        ],\n        \"semantic_type\": \"\",\n        \"description\": \"\"\n      }\n    },\n    {\n      \"column\": \"bank_account\",\n      \"properties\": {\n        \"dtype\": \"category\",\n        \"num_unique_values\": 1,\n        \"samples\": [\n          \"No\"\n        ],\n        \"semantic_type\": \"\",\n        \"description\": \"\"\n      }\n    },\n    {\n      \"column\": \"prob\",\n      \"properties\": {\n        \"dtype\": \"number\",\n        \"std\": 0.03904066417568506,\n        \"min\": 0.822850907957291,\n        \"max\": 0.9401473296500921,\n        \"num_unique_values\": 6,\n        \"samples\": [\n          0.9134140870345446\n        ],\n        \"semantic_type\": \"\",\n        \"description\": \"\"\n      }\n    }\n  ]\n}"
            }
          },
          "metadata": {},
          "execution_count": 128
        }
      ]
    },
    {
      "cell_type": "markdown",
      "source": [
        "Relationship between \"Relationship with Head\" and \"Bank Account Ownership\" is not significant, it suggests that the status of an individual in the household (e.g., head, spouse, child, etc.) does not strongly influence whether they have a bank account."
      ],
      "metadata": {
        "id": "a3_TENUxCzBi"
      }
    },
    {
      "cell_type": "markdown",
      "source": [
        "# Gender and Age"
      ],
      "metadata": {
        "id": "8g_cijZLEMEd"
      }
    },
    {
      "cell_type": "code",
      "source": [
        "train[\"age_of_respondent\"].value_counts(normalize=True).sort_index().plot(kind=\"bar\", figsize=(10, 4))\n",
        "plt.title(\"Age of Respondent\");\n",
        "plt.xlabel(\"Age\");\n",
        "plt.ylabel(\"Proportion\");"
      ],
      "metadata": {
        "id": "OWqvvjCNCmxn",
        "outputId": "52615ec5-58ce-41e3-a6c6-c60f91097846",
        "colab": {
          "base_uri": "https://localhost:8080/",
          "height": 422
        }
      },
      "execution_count": 139,
      "outputs": [
        {
          "output_type": "display_data",
          "data": {
            "text/plain": [
              "<Figure size 1000x400 with 1 Axes>"
            ],
            "image/png": "[encoded data removed]"
          },
          "metadata": {}
        }
      ]
    },
    {
      "cell_type": "code",
      "source": [
        "sns.histplot(data=train, x=\"age_of_respondent\", hue=\"bank_account\", kde=True, bins=20);"
      ],
      "metadata": {
        "id": "dR5bzThYEQ0U",
        "outputId": "b2088c85-a360-4e41-839e-ee3578afff26",
        "colab": {
          "base_uri": "https://localhost:8080/",
          "height": 450
        }
      },
      "execution_count": 146,
      "outputs": [
        {
          "output_type": "display_data",
          "data": {
            "text/plain": [
              "<Figure size 640x480 with 1 Axes>"
            ],
            "image/png": "[encoded data removed]"
          },
          "metadata": {}
        }
      ]
    },
    {
      "cell_type": "code",
      "source": [
        "train_age = train.groupby(\"age_of_respondent\")[\"bank_account\"].value_counts(normalize=True).reset_index(name=\"prob\").set_index(\"age_of_respondent\")"
      ],
      "metadata": {
        "id": "04lahpBnGQf3"
      },
      "execution_count": 148,
      "outputs": []
    },
    {
      "cell_type": "code",
      "source": [
        "train_age[train_age[\"bank_account\"] == \"Yes\"].plot(figsize=(10, 4))\n",
        "train[\"age_of_respondent\"].value_counts(normalize=True).sort_index().plot(figsize=(10, 4), legend=\"% data\")\n",
        "plt.title(\"Probability of Bank Account by Age\");\n",
        "plt.xlabel(\"Age\");\n",
        "plt.ylabel(\"Probability\");"
      ],
      "metadata": {
        "id": "TT2OHKoyIKAN",
        "outputId": "2c5d59f5-d024-44d3-8ac4-7022b42d6722",
        "colab": {
          "base_uri": "https://localhost:8080/",
          "height": 410
        }
      },
      "execution_count": 156,
      "outputs": [
        {
          "output_type": "display_data",
          "data": {
            "text/plain": [
              "<Figure size 1000x400 with 1 Axes>"
            ],
            "image/png": "[encoded data removed]"
          },
          "metadata": {}
        }
      ]
    },
    {
      "cell_type": "code",
      "source": [],
      "metadata": {
        "id": "PkgI3YrSIWti"
      },
      "execution_count": null,
      "outputs": []
    }
  ]
}