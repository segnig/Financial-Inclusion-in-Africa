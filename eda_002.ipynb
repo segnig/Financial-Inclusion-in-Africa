{
  "nbformat": 4,
  "nbformat_minor": 0,
  "metadata": {
    "colab": {
      "provenance": [],
      "authorship_tag": "ABX9TyMWCUO96WF6rukqURTH8VRB",
      "include_colab_link": true
    },
    "kernelspec": {
      "name": "python3",
      "display_name": "Python 3"
    },
    "language_info": {
      "name": "python"
    }
  },
  "cells": [
    {
      "cell_type": "markdown",
      "metadata": {
        "id": "view-in-github",
        "colab_type": "text"
      },
      "source": [
        "<a href=\"https://colab.research.google.com/github/segnig/Financial-Inclusion-in-Africa/blob/main/eda_002.ipynb\" target=\"_parent\"><img src=\"https://colab.research.google.com/assets/colab-badge.svg\" alt=\"Open In Colab\"/></a>"
      ]
    },
    {
      "cell_type": "code",
      "execution_count": 2,
      "metadata": {
        "id": "DSLKx8jrTCrz"
      },
      "outputs": [],
      "source": [
        "FILE_PATH = \"/content/drive/MyDrive/Data Science/financial-inclusion-in-africa/\"\n",
        "\n",
        "TRAIN_PATH = \"Train.csv\"\n",
        "TEST_PATH = \"Test.csv\"\n",
        "\n",
        "VARIABLE_DEFINITIONS_PATH = \"VariableDefinitions.csv\"\n",
        "SAMPLE_SUBMISSION_PATH = \"SampleSubmission.csv\"\n"
      ]
    },
    {
      "cell_type": "markdown",
      "source": [
        "## Libraries Import"
      ],
      "metadata": {
        "id": "gjcR7AHOTvTK"
      }
    },
    {
      "cell_type": "markdown",
      "source": [],
      "metadata": {
        "id": "iyEmPCOKTvMo"
      }
    },
    {
      "cell_type": "code",
      "source": [
        "import pandas as pd\n",
        "import numpy as np\n",
        "import matplotlib.pyplot as plt\n",
        "import seaborn as sns"
      ],
      "metadata": {
        "id": "Z0LPGxsFTf6K"
      },
      "execution_count": 3,
      "outputs": []
    },
    {
      "cell_type": "markdown",
      "source": [
        "# Load Dataset to DataFrame"
      ],
      "metadata": {
        "id": "zFAlq2VST9vk"
      }
    },
    {
      "cell_type": "code",
      "source": [
        "train = pd.read_csv(FILE_PATH + TRAIN_PATH)\n",
        "test = pd.read_csv(FILE_PATH + TEST_PATH)\n",
        "\n",
        "variable_definitions = pd.read_csv(FILE_PATH + VARIABLE_DEFINITIONS_PATH)\n",
        "sample_submission = pd.read_csv(FILE_PATH + SAMPLE_SUBMISSION_PATH)"
      ],
      "metadata": {
        "id": "kBfuyJWJTD1s"
      },
      "execution_count": 4,
      "outputs": []
    },
    {
      "cell_type": "markdown",
      "source": [
        "# Train DataSet"
      ],
      "metadata": {
        "id": "RL7u7crBUcU1"
      }
    },
    {
      "cell_type": "code",
      "source": [
        "# How many features and their data types\n",
        "train.info()"
      ],
      "metadata": {
        "id": "L4lWn_J_UKFX",
        "outputId": "915c50a9-a57c-428d-d0e8-49d9cc0065d8",
        "colab": {
          "base_uri": "https://localhost:8080/"
        }
      },
      "execution_count": 5,
      "outputs": [
        {
          "output_type": "stream",
          "name": "stdout",
          "text": [
            "<class 'pandas.core.frame.DataFrame'>\n",
            "RangeIndex: 23524 entries, 0 to 23523\n",
            "Data columns (total 13 columns):\n",
            " #   Column                  Non-Null Count  Dtype \n",
            "---  ------                  --------------  ----- \n",
            " 0   country                 23524 non-null  object\n",
            " 1   year                    23524 non-null  int64 \n",
            " 2   uniqueid                23524 non-null  object\n",
            " 3   bank_account            23524 non-null  object\n",
            " 4   location_type           23524 non-null  object\n",
            " 5   cellphone_access        23524 non-null  object\n",
            " 6   household_size          23524 non-null  int64 \n",
            " 7   age_of_respondent       23524 non-null  int64 \n",
            " 8   gender_of_respondent    23524 non-null  object\n",
            " 9   relationship_with_head  23524 non-null  object\n",
            " 10  marital_status          23524 non-null  object\n",
            " 11  education_level         23524 non-null  object\n",
            " 12  job_type                23524 non-null  object\n",
            "dtypes: int64(3), object(10)\n",
            "memory usage: 2.3+ MB\n"
          ]
        }
      ]
    },
    {
      "cell_type": "markdown",
      "source": [
        "# Data wrangling Function"
      ],
      "metadata": {
        "id": "xNVATfwZawBk"
      }
    },
    {
      "cell_type": "code",
      "source": [
        "def wrangle(df):\n",
        "    df_copy = df.copy()\n",
        "\n",
        "\n",
        "    # dropped features\n",
        "    dropped_feature = [\"year\"]\n",
        "\n",
        "\n",
        "\n",
        "    return df_copy\n",
        ""
      ],
      "metadata": {
        "id": "bmyW14UPavtV"
      },
      "execution_count": 11,
      "outputs": []
    },
    {
      "cell_type": "markdown",
      "source": [
        "## Banking the Unbanked: How Country Shapes Financial Access in Africa?"
      ],
      "metadata": {
        "id": "_P3x_zVCV_E6"
      }
    },
    {
      "cell_type": "code",
      "source": [
        "# How much data is form each country?\n",
        "train['country'].value_counts(normalize=True).round(2)"
      ],
      "metadata": {
        "id": "UQx0KOibUrCm",
        "outputId": "886ef17a-bd28-4d3d-b75d-e553cacf9ffa",
        "colab": {
          "base_uri": "https://localhost:8080/",
          "height": 241
        }
      },
      "execution_count": 9,
      "outputs": [
        {
          "output_type": "execute_result",
          "data": {
            "text/plain": [
              "country\n",
              "Rwanda      0.37\n",
              "Tanzania    0.28\n",
              "Kenya       0.26\n",
              "Uganda      0.09\n",
              "Name: proportion, dtype: float64"
            ],
            "text/html": [
              "<div>\n",
              "<style scoped>\n",
              "    .dataframe tbody tr th:only-of-type {\n",
              "        vertical-align: middle;\n",
              "    }\n",
              "\n",
              "    .dataframe tbody tr th {\n",
              "        vertical-align: top;\n",
              "    }\n",
              "\n",
              "    .dataframe thead th {\n",
              "        text-align: right;\n",
              "    }\n",
              "</style>\n",
              "<table border=\"1\" class=\"dataframe\">\n",
              "  <thead>\n",
              "    <tr style=\"text-align: right;\">\n",
              "      <th></th>\n",
              "      <th>proportion</th>\n",
              "    </tr>\n",
              "    <tr>\n",
              "      <th>country</th>\n",
              "      <th></th>\n",
              "    </tr>\n",
              "  </thead>\n",
              "  <tbody>\n",
              "    <tr>\n",
              "      <th>Rwanda</th>\n",
              "      <td>0.37</td>\n",
              "    </tr>\n",
              "    <tr>\n",
              "      <th>Tanzania</th>\n",
              "      <td>0.28</td>\n",
              "    </tr>\n",
              "    <tr>\n",
              "      <th>Kenya</th>\n",
              "      <td>0.26</td>\n",
              "    </tr>\n",
              "    <tr>\n",
              "      <th>Uganda</th>\n",
              "      <td>0.09</td>\n",
              "    </tr>\n",
              "  </tbody>\n",
              "</table>\n",
              "</div><br><label><b>dtype:</b> float64</label>"
            ]
          },
          "metadata": {},
          "execution_count": 9
        }
      ]
    },
    {
      "cell_type": "markdown",
      "source": [
        "The dataset predominantly represents four East African countries, with the largest proportion of data `37%` originating from `Rwanda`. `Tanzania` contributes `28%` of the data, followed closely by `Kenya` with `26%`. `Uganda` accounts for the remaining `9%`. This distribution highlights a strong focus on Rwanda while ensuring significant representation from other key East African nations, providing a comprehensive regional perspective on financial inclusion trend"
      ],
      "metadata": {
        "id": "VFqne1vGY9jX"
      }
    },
    {
      "cell_type": "markdown",
      "source": [],
      "metadata": {
        "id": "jKmJOn4FbQNO"
      }
    },
    {
      "cell_type": "markdown",
      "source": [],
      "metadata": {
        "id": "7AZJOrvCbQJF"
      }
    },
    {
      "cell_type": "code",
      "source": [
        "train[train[\"bank_account\"] == \"Yes\"][\"country\"].value_counts(normalize=True)"
      ],
      "metadata": {
        "id": "XzsOcWhfYbzl",
        "outputId": "449d6bf7-9b94-4092-b0b2-ba1411fb3b72",
        "colab": {
          "base_uri": "https://localhost:8080/",
          "height": 241
        }
      },
      "execution_count": 10,
      "outputs": [
        {
          "output_type": "execute_result",
          "data": {
            "text/plain": [
              "country\n",
              "Kenya       0.459239\n",
              "Rwanda      0.302838\n",
              "Tanzania    0.183273\n",
              "Uganda      0.054650\n",
              "Name: proportion, dtype: float64"
            ],
            "text/html": [
              "<div>\n",
              "<style scoped>\n",
              "    .dataframe tbody tr th:only-of-type {\n",
              "        vertical-align: middle;\n",
              "    }\n",
              "\n",
              "    .dataframe tbody tr th {\n",
              "        vertical-align: top;\n",
              "    }\n",
              "\n",
              "    .dataframe thead th {\n",
              "        text-align: right;\n",
              "    }\n",
              "</style>\n",
              "<table border=\"1\" class=\"dataframe\">\n",
              "  <thead>\n",
              "    <tr style=\"text-align: right;\">\n",
              "      <th></th>\n",
              "      <th>proportion</th>\n",
              "    </tr>\n",
              "    <tr>\n",
              "      <th>country</th>\n",
              "      <th></th>\n",
              "    </tr>\n",
              "  </thead>\n",
              "  <tbody>\n",
              "    <tr>\n",
              "      <th>Kenya</th>\n",
              "      <td>0.459239</td>\n",
              "    </tr>\n",
              "    <tr>\n",
              "      <th>Rwanda</th>\n",
              "      <td>0.302838</td>\n",
              "    </tr>\n",
              "    <tr>\n",
              "      <th>Tanzania</th>\n",
              "      <td>0.183273</td>\n",
              "    </tr>\n",
              "    <tr>\n",
              "      <th>Uganda</th>\n",
              "      <td>0.054650</td>\n",
              "    </tr>\n",
              "  </tbody>\n",
              "</table>\n",
              "</div><br><label><b>dtype:</b> float64</label>"
            ]
          },
          "metadata": {},
          "execution_count": 10
        }
      ]
    },
    {
      "cell_type": "code",
      "source": [
        "train[train[\"bank_account\"] == \"No\"][\"country\"].value_counts(normalize=True)"
      ],
      "metadata": {
        "id": "GBoRpCz_aptg",
        "outputId": "fd839c6b-b6e9-4d8b-ca6b-54a4104c487a",
        "colab": {
          "base_uri": "https://localhost:8080/",
          "height": 241
        }
      },
      "execution_count": 12,
      "outputs": [
        {
          "output_type": "execute_result",
          "data": {
            "text/plain": [
              "country\n",
              "Rwanda      0.382545\n",
              "Tanzania    0.297497\n",
              "Kenya       0.224965\n",
              "Uganda      0.094993\n",
              "Name: proportion, dtype: float64"
            ],
            "text/html": [
              "<div>\n",
              "<style scoped>\n",
              "    .dataframe tbody tr th:only-of-type {\n",
              "        vertical-align: middle;\n",
              "    }\n",
              "\n",
              "    .dataframe tbody tr th {\n",
              "        vertical-align: top;\n",
              "    }\n",
              "\n",
              "    .dataframe thead th {\n",
              "        text-align: right;\n",
              "    }\n",
              "</style>\n",
              "<table border=\"1\" class=\"dataframe\">\n",
              "  <thead>\n",
              "    <tr style=\"text-align: right;\">\n",
              "      <th></th>\n",
              "      <th>proportion</th>\n",
              "    </tr>\n",
              "    <tr>\n",
              "      <th>country</th>\n",
              "      <th></th>\n",
              "    </tr>\n",
              "  </thead>\n",
              "  <tbody>\n",
              "    <tr>\n",
              "      <th>Rwanda</th>\n",
              "      <td>0.382545</td>\n",
              "    </tr>\n",
              "    <tr>\n",
              "      <th>Tanzania</th>\n",
              "      <td>0.297497</td>\n",
              "    </tr>\n",
              "    <tr>\n",
              "      <th>Kenya</th>\n",
              "      <td>0.224965</td>\n",
              "    </tr>\n",
              "    <tr>\n",
              "      <th>Uganda</th>\n",
              "      <td>0.094993</td>\n",
              "    </tr>\n",
              "  </tbody>\n",
              "</table>\n",
              "</div><br><label><b>dtype:</b> float64</label>"
            ]
          },
          "metadata": {},
          "execution_count": 12
        }
      ]
    },
    {
      "cell_type": "code",
      "source": [
        "# The probability across the countries have bank_account\n",
        "prob_country_bank_account = train.groupby(\"country\")[\"bank_account\"].value_counts(normalize=True).round(2)\n",
        "\n",
        "prob_country_bank_account = prob_country_bank_account.reset_index(name=\"prob\").set_index(\"country\")\n",
        "\n",
        "prob_country_bank_account[prob_country_bank_account[\"bank_account\"] == \"Yes\"].plot(kind=\"bar\", title=\"Probability of Bank Account by Country\", figsize=(10, 4));"
      ],
      "metadata": {
        "id": "kEDmZNt3adIa",
        "outputId": "b7608975-2914-48f3-896c-437516f97bc1",
        "colab": {
          "base_uri": "https://localhost:8080/",
          "height": 457
        }
      },
      "execution_count": 24,
      "outputs": [
        {
          "output_type": "display_data",
          "data": {
            "text/plain": [
              "<Figure size 1000x400 with 1 Axes>"
            ],
            "image/png": "[encoded data removed]"
          },
          "metadata": {}
        }
      ]
    },
    {
      "cell_type": "code",
      "source": [
        "train[\"year\"].unique()"
      ],
      "metadata": {
        "id": "9pUOJlTVb6Rr",
        "outputId": "60300168-3e93-4338-8004-8e66dd3931a0",
        "colab": {
          "base_uri": "https://localhost:8080/"
        }
      },
      "execution_count": 25,
      "outputs": [
        {
          "output_type": "execute_result",
          "data": {
            "text/plain": [
              "array([2018, 2016, 2017])"
            ]
          },
          "metadata": {},
          "execution_count": 25
        }
      ]
    },
    {
      "cell_type": "markdown",
      "source": [
        "# Unlocking Financial Inclusion: Exploring the Impact of Year and Country on Bank Account Ownership"
      ],
      "metadata": {
        "id": "2T1LISkAe-Xx"
      }
    },
    {
      "cell_type": "code",
      "source": [
        "train.groupby(\"year\")[[\"bank_account\", \"country\"]].value_counts(normalize=True).round(2)\n"
      ],
      "metadata": {
        "id": "QHWyW2j1diUI",
        "outputId": "3a63fd36-99b3-4003-e7bb-40ea4963ab82",
        "colab": {
          "base_uri": "https://localhost:8080/",
          "height": 366
        }
      },
      "execution_count": 27,
      "outputs": [
        {
          "output_type": "execute_result",
          "data": {
            "text/plain": [
              "year  bank_account  country \n",
              "2016  No            Rwanda      0.89\n",
              "      Yes           Rwanda      0.11\n",
              "2017  No            Tanzania    0.91\n",
              "      Yes           Tanzania    0.09\n",
              "2018  No            Kenya       0.56\n",
              "                    Uganda      0.24\n",
              "      Yes           Kenya       0.19\n",
              "                    Uganda      0.02\n",
              "Name: proportion, dtype: float64"
            ],
            "text/html": [
              "<div>\n",
              "<style scoped>\n",
              "    .dataframe tbody tr th:only-of-type {\n",
              "        vertical-align: middle;\n",
              "    }\n",
              "\n",
              "    .dataframe tbody tr th {\n",
              "        vertical-align: top;\n",
              "    }\n",
              "\n",
              "    .dataframe thead th {\n",
              "        text-align: right;\n",
              "    }\n",
              "</style>\n",
              "<table border=\"1\" class=\"dataframe\">\n",
              "  <thead>\n",
              "    <tr style=\"text-align: right;\">\n",
              "      <th></th>\n",
              "      <th></th>\n",
              "      <th></th>\n",
              "      <th>proportion</th>\n",
              "    </tr>\n",
              "    <tr>\n",
              "      <th>year</th>\n",
              "      <th>bank_account</th>\n",
              "      <th>country</th>\n",
              "      <th></th>\n",
              "    </tr>\n",
              "  </thead>\n",
              "  <tbody>\n",
              "    <tr>\n",
              "      <th rowspan=\"2\" valign=\"top\">2016</th>\n",
              "      <th>No</th>\n",
              "      <th>Rwanda</th>\n",
              "      <td>0.89</td>\n",
              "    </tr>\n",
              "    <tr>\n",
              "      <th>Yes</th>\n",
              "      <th>Rwanda</th>\n",
              "      <td>0.11</td>\n",
              "    </tr>\n",
              "    <tr>\n",
              "      <th rowspan=\"2\" valign=\"top\">2017</th>\n",
              "      <th>No</th>\n",
              "      <th>Tanzania</th>\n",
              "      <td>0.91</td>\n",
              "    </tr>\n",
              "    <tr>\n",
              "      <th>Yes</th>\n",
              "      <th>Tanzania</th>\n",
              "      <td>0.09</td>\n",
              "    </tr>\n",
              "    <tr>\n",
              "      <th rowspan=\"4\" valign=\"top\">2018</th>\n",
              "      <th rowspan=\"2\" valign=\"top\">No</th>\n",
              "      <th>Kenya</th>\n",
              "      <td>0.56</td>\n",
              "    </tr>\n",
              "    <tr>\n",
              "      <th>Uganda</th>\n",
              "      <td>0.24</td>\n",
              "    </tr>\n",
              "    <tr>\n",
              "      <th rowspan=\"2\" valign=\"top\">Yes</th>\n",
              "      <th>Kenya</th>\n",
              "      <td>0.19</td>\n",
              "    </tr>\n",
              "    <tr>\n",
              "      <th>Uganda</th>\n",
              "      <td>0.02</td>\n",
              "    </tr>\n",
              "  </tbody>\n",
              "</table>\n",
              "</div><br><label><b>dtype:</b> float64</label>"
            ]
          },
          "metadata": {},
          "execution_count": 27
        }
      ]
    },
    {
      "cell_type": "markdown",
      "source": [
        "## Tracking Financial Access: How Year and Country Shape Bank Account Ownership Trends\n",
        "\n",
        "| Year | Bank Account | Country  | Proportion |\n",
        "|------|--------------|----------|------------|\n",
        "| 2016 | No           | Rwanda   | 0.89       |\n",
        "| 2016 | Yes          | Rwanda   | 0.11       |\n",
        "| 2017 | No           | Tanzania | 0.91       |\n",
        "| 2017 | Yes          | Tanzania | 0.09       |\n",
        "| 2018 | No           | Kenya    | 0.56       |\n",
        "| 2018 | No           | Uganda   | 0.24       |\n",
        "| 2018 | Yes          | Kenya    | 0.19       |\n",
        "| 2018 | Yes          | Uganda   | 0.02       |\n",
        "\n",
        "Year feature does not have relation with out target vector."
      ],
      "metadata": {
        "id": "rVGniNVOg32X"
      }
    },
    {
      "cell_type": "code",
      "source": [],
      "metadata": {
        "id": "03I4kVhifJQz"
      },
      "execution_count": null,
      "outputs": []
    }
  ]
}